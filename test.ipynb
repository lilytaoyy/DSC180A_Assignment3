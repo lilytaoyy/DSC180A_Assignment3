{
 "cells": [
  {
   "cell_type": "code",
   "execution_count": 2,
   "metadata": {},
   "outputs": [],
   "source": [
    "%load_ext autoreload\n",
    "%autoreload 2\n",
    "import json\n",
    "import pandas as pd\n",
    "import numpy as np\n",
    "import matplotlib.pyplot as plt\n",
    "from src.data_ingestion import *\n",
    "from src.feature_extraction import *\n",
    "from src.baseline_model_training import *\n",
    "from src.matrix_construction import *\n",
    "from src.kernel import *\n",
    "import warnings\n",
    "warnings.filterwarnings('ignore')"
   ]
  },
  {
   "cell_type": "markdown",
   "metadata": {},
   "source": [
    "### Loading Parameters"
   ]
  },
  {
   "cell_type": "code",
   "execution_count": 2,
   "metadata": {},
   "outputs": [],
   "source": [
    "with open('config/test-params.json') as f:\n",
    "    params = json.load(f)\n",
    "sitemap = params['sitemap']\n",
    "out = params['path']\n",
    "num = params['num']\n",
    "cat = params['cat']\n",
    "malware_path = params['malware']"
   ]
  },
  {
   "cell_type": "markdown",
   "metadata": {},
   "source": [
    "### Data Ingestion "
   ]
  },
  {
   "cell_type": "code",
   "execution_count": 3,
   "metadata": {},
   "outputs": [],
   "source": [
    "appurl = get_app_urls(sitemap, cat, num)"
   ]
  },
  {
   "cell_type": "code",
   "execution_count": 4,
   "metadata": {},
   "outputs": [],
   "source": [
    "#benign apps\n",
    "download_link(appurl, out, 'benign')"
   ]
  },
  {
   "cell_type": "code",
   "execution_count": 5,
   "metadata": {},
   "outputs": [],
   "source": [
    "clean_disk(out)"
   ]
  },
  {
   "cell_type": "markdown",
   "metadata": {},
   "source": [
    "Now all app files are left with manifest.xml and smalis only."
   ]
  },
  {
   "cell_type": "code",
   "execution_count": 3,
   "metadata": {},
   "outputs": [],
   "source": [
    "#malware\n",
    "mal_paths = get_malware_paths(malware_path, num*cat)"
   ]
  },
  {
   "cell_type": "markdown",
   "metadata": {},
   "source": [
    "### Feature Extraction and EDA"
   ]
  },
  {
   "cell_type": "code",
   "execution_count": 4,
   "metadata": {},
   "outputs": [],
   "source": [
    "benign_df = generate_df(out, 'benign')"
   ]
  },
  {
   "cell_type": "code",
   "execution_count": 5,
   "metadata": {},
   "outputs": [],
   "source": [
    "malware_df = generate_malware(mal_paths)"
   ]
  },
  {
   "cell_type": "code",
   "execution_count": 6,
   "metadata": {},
   "outputs": [],
   "source": [
    "app_df = pd.concat([benign_df, malware_df])"
   ]
  },
  {
   "cell_type": "code",
   "execution_count": 25,
   "metadata": {},
   "outputs": [
    {
     "data": {
      "text/html": [
       "<div>\n",
       "<style scoped>\n",
       "    .dataframe tbody tr th:only-of-type {\n",
       "        vertical-align: middle;\n",
       "    }\n",
       "\n",
       "    .dataframe tbody tr th {\n",
       "        vertical-align: top;\n",
       "    }\n",
       "\n",
       "    .dataframe thead th {\n",
       "        text-align: right;\n",
       "    }\n",
       "</style>\n",
       "<table border=\"1\" class=\"dataframe\">\n",
       "  <thead>\n",
       "    <tr style=\"text-align: right;\">\n",
       "      <th></th>\n",
       "      <th>num_code_block</th>\n",
       "      <th>num_uni_block</th>\n",
       "      <th>num_api</th>\n",
       "      <th>num_uni_api</th>\n",
       "      <th>num_package</th>\n",
       "      <th>num_uni_package</th>\n",
       "      <th>num_invoke</th>\n",
       "      <th>category</th>\n",
       "    </tr>\n",
       "  </thead>\n",
       "  <tbody>\n",
       "    <tr>\n",
       "      <th>0</th>\n",
       "      <td>12745</td>\n",
       "      <td>12103</td>\n",
       "      <td>27386</td>\n",
       "      <td>8176</td>\n",
       "      <td>28484</td>\n",
       "      <td>1795</td>\n",
       "      <td>28484</td>\n",
       "      <td>0</td>\n",
       "    </tr>\n",
       "    <tr>\n",
       "      <th>1</th>\n",
       "      <td>44225</td>\n",
       "      <td>42806</td>\n",
       "      <td>138077</td>\n",
       "      <td>29101</td>\n",
       "      <td>139837</td>\n",
       "      <td>7621</td>\n",
       "      <td>139837</td>\n",
       "      <td>0</td>\n",
       "    </tr>\n",
       "    <tr>\n",
       "      <th>2</th>\n",
       "      <td>54186</td>\n",
       "      <td>51125</td>\n",
       "      <td>179486</td>\n",
       "      <td>34472</td>\n",
       "      <td>182836</td>\n",
       "      <td>8911</td>\n",
       "      <td>182836</td>\n",
       "      <td>0</td>\n",
       "    </tr>\n",
       "    <tr>\n",
       "      <th>3</th>\n",
       "      <td>31509</td>\n",
       "      <td>28555</td>\n",
       "      <td>108914</td>\n",
       "      <td>16709</td>\n",
       "      <td>111956</td>\n",
       "      <td>6322</td>\n",
       "      <td>111956</td>\n",
       "      <td>0</td>\n",
       "    </tr>\n",
       "    <tr>\n",
       "      <th>4</th>\n",
       "      <td>51368</td>\n",
       "      <td>48604</td>\n",
       "      <td>169719</td>\n",
       "      <td>33801</td>\n",
       "      <td>172583</td>\n",
       "      <td>8153</td>\n",
       "      <td>172583</td>\n",
       "      <td>0</td>\n",
       "    </tr>\n",
       "  </tbody>\n",
       "</table>\n",
       "</div>"
      ],
      "text/plain": [
       "   num_code_block  num_uni_block  num_api  num_uni_api  num_package  \\\n",
       "0           12745          12103    27386         8176        28484   \n",
       "1           44225          42806   138077        29101       139837   \n",
       "2           54186          51125   179486        34472       182836   \n",
       "3           31509          28555   108914        16709       111956   \n",
       "4           51368          48604   169719        33801       172583   \n",
       "\n",
       "   num_uni_package  num_invoke  category  \n",
       "0             1795       28484         0  \n",
       "1             7621      139837         0  \n",
       "2             8911      182836         0  \n",
       "3             6322      111956         0  \n",
       "4             8153      172583         0  "
      ]
     },
     "execution_count": 25,
     "metadata": {},
     "output_type": "execute_result"
    }
   ],
   "source": [
    "app_df.head()"
   ]
  },
  {
   "cell_type": "code",
   "execution_count": 26,
   "metadata": {},
   "outputs": [
    {
     "data": {
      "text/html": [
       "<div>\n",
       "<style scoped>\n",
       "    .dataframe tbody tr th:only-of-type {\n",
       "        vertical-align: middle;\n",
       "    }\n",
       "\n",
       "    .dataframe tbody tr th {\n",
       "        vertical-align: top;\n",
       "    }\n",
       "\n",
       "    .dataframe thead th {\n",
       "        text-align: right;\n",
       "    }\n",
       "</style>\n",
       "<table border=\"1\" class=\"dataframe\">\n",
       "  <thead>\n",
       "    <tr style=\"text-align: right;\">\n",
       "      <th></th>\n",
       "      <th>num_code_block</th>\n",
       "      <th>num_uni_block</th>\n",
       "      <th>num_api</th>\n",
       "      <th>num_uni_api</th>\n",
       "      <th>num_package</th>\n",
       "      <th>num_uni_package</th>\n",
       "      <th>num_invoke</th>\n",
       "      <th>category</th>\n",
       "    </tr>\n",
       "  </thead>\n",
       "  <tbody>\n",
       "    <tr>\n",
       "      <th>count</th>\n",
       "      <td>88.000000</td>\n",
       "      <td>88.000000</td>\n",
       "      <td>88.000000</td>\n",
       "      <td>88.000000</td>\n",
       "      <td>88.000000</td>\n",
       "      <td>88.000000</td>\n",
       "      <td>88.000000</td>\n",
       "      <td>88.000000</td>\n",
       "    </tr>\n",
       "    <tr>\n",
       "      <th>mean</th>\n",
       "      <td>20339.829545</td>\n",
       "      <td>19240.477273</td>\n",
       "      <td>68039.954545</td>\n",
       "      <td>13227.306818</td>\n",
       "      <td>69554.420455</td>\n",
       "      <td>3473.227273</td>\n",
       "      <td>69554.420455</td>\n",
       "      <td>0.568182</td>\n",
       "    </tr>\n",
       "    <tr>\n",
       "      <th>std</th>\n",
       "      <td>21960.552460</td>\n",
       "      <td>20697.621925</td>\n",
       "      <td>70859.601656</td>\n",
       "      <td>13589.004650</td>\n",
       "      <td>72399.152363</td>\n",
       "      <td>3607.135918</td>\n",
       "      <td>72399.152363</td>\n",
       "      <td>0.498168</td>\n",
       "    </tr>\n",
       "    <tr>\n",
       "      <th>min</th>\n",
       "      <td>142.000000</td>\n",
       "      <td>140.000000</td>\n",
       "      <td>772.000000</td>\n",
       "      <td>278.000000</td>\n",
       "      <td>780.000000</td>\n",
       "      <td>118.000000</td>\n",
       "      <td>780.000000</td>\n",
       "      <td>0.000000</td>\n",
       "    </tr>\n",
       "    <tr>\n",
       "      <th>25%</th>\n",
       "      <td>1049.250000</td>\n",
       "      <td>991.000000</td>\n",
       "      <td>7177.750000</td>\n",
       "      <td>1218.750000</td>\n",
       "      <td>7265.000000</td>\n",
       "      <td>352.500000</td>\n",
       "      <td>7265.000000</td>\n",
       "      <td>0.000000</td>\n",
       "    </tr>\n",
       "    <tr>\n",
       "      <th>50%</th>\n",
       "      <td>4235.500000</td>\n",
       "      <td>4123.500000</td>\n",
       "      <td>21498.000000</td>\n",
       "      <td>3974.000000</td>\n",
       "      <td>22109.000000</td>\n",
       "      <td>919.500000</td>\n",
       "      <td>22109.000000</td>\n",
       "      <td>1.000000</td>\n",
       "    </tr>\n",
       "    <tr>\n",
       "      <th>75%</th>\n",
       "      <td>43235.000000</td>\n",
       "      <td>40760.000000</td>\n",
       "      <td>142144.000000</td>\n",
       "      <td>26475.500000</td>\n",
       "      <td>144883.250000</td>\n",
       "      <td>7264.250000</td>\n",
       "      <td>144883.250000</td>\n",
       "      <td>1.000000</td>\n",
       "    </tr>\n",
       "    <tr>\n",
       "      <th>max</th>\n",
       "      <td>58428.000000</td>\n",
       "      <td>54566.000000</td>\n",
       "      <td>213904.000000</td>\n",
       "      <td>36508.000000</td>\n",
       "      <td>221400.000000</td>\n",
       "      <td>10637.000000</td>\n",
       "      <td>221400.000000</td>\n",
       "      <td>1.000000</td>\n",
       "    </tr>\n",
       "  </tbody>\n",
       "</table>\n",
       "</div>"
      ],
      "text/plain": [
       "       num_code_block  num_uni_block        num_api   num_uni_api  \\\n",
       "count       88.000000      88.000000      88.000000     88.000000   \n",
       "mean     20339.829545   19240.477273   68039.954545  13227.306818   \n",
       "std      21960.552460   20697.621925   70859.601656  13589.004650   \n",
       "min        142.000000     140.000000     772.000000    278.000000   \n",
       "25%       1049.250000     991.000000    7177.750000   1218.750000   \n",
       "50%       4235.500000    4123.500000   21498.000000   3974.000000   \n",
       "75%      43235.000000   40760.000000  142144.000000  26475.500000   \n",
       "max      58428.000000   54566.000000  213904.000000  36508.000000   \n",
       "\n",
       "         num_package  num_uni_package     num_invoke   category  \n",
       "count      88.000000        88.000000      88.000000  88.000000  \n",
       "mean    69554.420455      3473.227273   69554.420455   0.568182  \n",
       "std     72399.152363      3607.135918   72399.152363   0.498168  \n",
       "min       780.000000       118.000000     780.000000   0.000000  \n",
       "25%      7265.000000       352.500000    7265.000000   0.000000  \n",
       "50%     22109.000000       919.500000   22109.000000   1.000000  \n",
       "75%    144883.250000      7264.250000  144883.250000   1.000000  \n",
       "max    221400.000000     10637.000000  221400.000000   1.000000  "
      ]
     },
     "execution_count": 26,
     "metadata": {},
     "output_type": "execute_result"
    }
   ],
   "source": [
    "app_df[app_df.num_api != 0].describe()"
   ]
  },
  {
   "cell_type": "code",
   "execution_count": 27,
   "metadata": {},
   "outputs": [
    {
     "data": {
      "text/plain": [
       "99"
      ]
     },
     "execution_count": 27,
     "metadata": {},
     "output_type": "execute_result"
    }
   ],
   "source": [
    "len(app_df) #split 49 benign / 50 malware"
   ]
  },
  {
   "cell_type": "markdown",
   "metadata": {},
   "source": [
    "#### Histogram"
   ]
  },
  {
   "cell_type": "code",
   "execution_count": 28,
   "metadata": {},
   "outputs": [
    {
     "data": {
      "text/plain": [
       "<matplotlib.axes._subplots.AxesSubplot at 0x7fd37f8d7390>"
      ]
     },
     "execution_count": 28,
     "metadata": {},
     "output_type": "execute_result"
    },
    {
     "data": {
      "image/png": "[encoded data removed]",
      "text/plain": [
       "<Figure size 432x288 with 1 Axes>"
      ]
     },
     "metadata": {
      "needs_background": "light"
     },
     "output_type": "display_data"
    }
   ],
   "source": [
    "app_df.plot.hist()"
   ]
  },
  {
   "cell_type": "code",
   "execution_count": 29,
   "metadata": {},
   "outputs": [
    {
     "data": {
      "text/plain": [
       "<matplotlib.axes._subplots.AxesSubplot at 0x7fd37f6d7e48>"
      ]
     },
     "execution_count": 29,
     "metadata": {},
     "output_type": "execute_result"
    },
    {
     "data": {
      "image/png": "[encoded data removed]",
      "text/plain": [
       "<Figure size 432x288 with 1 Axes>"
      ]
     },
     "metadata": {
      "needs_background": "light"
     },
     "output_type": "display_data"
    }
   ],
   "source": [
    "#malware only\n",
    "app_df[app_df.category == 1].plot.hist()"
   ]
  },
  {
   "cell_type": "code",
   "execution_count": 30,
   "metadata": {},
   "outputs": [
    {
     "data": {
      "text/plain": [
       "<matplotlib.axes._subplots.AxesSubplot at 0x7fd37f54bb00>"
      ]
     },
     "execution_count": 30,
     "metadata": {},
     "output_type": "execute_result"
    },
    {
     "data": {
      "image/png": "[encoded data removed]",
      "text/plain": [
       "<Figure size 432x288 with 1 Axes>"
      ]
     },
     "metadata": {
      "needs_background": "light"
     },
     "output_type": "display_data"
    }
   ],
   "source": [
    "#benign only\n",
    "app_df[app_df.category == 0].plot.hist()"
   ]
  },
  {
   "cell_type": "code",
   "execution_count": 4,
   "metadata": {},
   "outputs": [],
   "source": [
    "benign_smali = all_smali(get_sub_dir(out + '/' + 'benign'))"
   ]
  },
  {
   "cell_type": "code",
   "execution_count": 5,
   "metadata": {},
   "outputs": [],
   "source": [
    "mal_smali = all_smali(mal_paths)"
   ]
  },
  {
   "cell_type": "code",
   "execution_count": 33,
   "metadata": {},
   "outputs": [
    {
     "data": {
      "text/html": [
       "<div>\n",
       "<style scoped>\n",
       "    .dataframe tbody tr th:only-of-type {\n",
       "        vertical-align: middle;\n",
       "    }\n",
       "\n",
       "    .dataframe tbody tr th {\n",
       "        vertical-align: top;\n",
       "    }\n",
       "\n",
       "    .dataframe thead th {\n",
       "        text-align: right;\n",
       "    }\n",
       "</style>\n",
       "<table border=\"1\" class=\"dataframe\">\n",
       "  <thead>\n",
       "    <tr style=\"text-align: right;\">\n",
       "      <th></th>\n",
       "      <th>0</th>\n",
       "    </tr>\n",
       "  </thead>\n",
       "  <tbody>\n",
       "    <tr>\n",
       "      <th>0</th>\n",
       "      <td>.class public Lorg/apache/http/ProtocolVersion...</td>\n",
       "    </tr>\n",
       "    <tr>\n",
       "      <th>1</th>\n",
       "      <td>.class Lnet/hockeyapp/android/FeedbackActivity...</td>\n",
       "    </tr>\n",
       "    <tr>\n",
       "      <th>2</th>\n",
       "      <td>.class public final Landroid/support/compat/R$...</td>\n",
       "    </tr>\n",
       "    <tr>\n",
       "      <th>3</th>\n",
       "      <td>.class Lc/a/a/a/a$a$a;\\n.super Ljava/lang/Obje...</td>\n",
       "    </tr>\n",
       "    <tr>\n",
       "      <th>4</th>\n",
       "      <td>.class public final Lcom/igg/commonlibs/output...</td>\n",
       "    </tr>\n",
       "  </tbody>\n",
       "</table>\n",
       "</div>"
      ],
      "text/plain": [
       "                                                   0\n",
       "0  .class public Lorg/apache/http/ProtocolVersion...\n",
       "1  .class Lnet/hockeyapp/android/FeedbackActivity...\n",
       "2  .class public final Landroid/support/compat/R$...\n",
       "3  .class Lc/a/a/a/a$a$a;\\n.super Ljava/lang/Obje...\n",
       "4  .class public final Lcom/igg/commonlibs/output..."
      ]
     },
     "execution_count": 33,
     "metadata": {},
     "output_type": "execute_result"
    }
   ],
   "source": [
    "ben_smali_df = pd.DataFrame(benign_smali)\n",
    "mal_smali_df = pd.DataFrame(mal_smali)\n",
    "together = ben_smali_df.append(mal_smali_df, ignore_index = True)\n",
    "together.head()"
   ]
  },
  {
   "cell_type": "code",
   "execution_count": 34,
   "metadata": {},
   "outputs": [],
   "source": [
    "A, apis = A(together)\n",
    "sum_api = pd.DataFrame(A.todense(), columns = apis).sum().to_frame()"
   ]
  },
  {
   "cell_type": "code",
   "execution_count": 36,
   "metadata": {},
   "outputs": [
    {
     "name": "stdout",
     "output_type": "stream",
     "text": [
      "number of APIs appear once only:\n"
     ]
    },
    {
     "data": {
      "text/plain": [
       "295829"
      ]
     },
     "execution_count": 36,
     "metadata": {},
     "output_type": "execute_result"
    }
   ],
   "source": [
    "print('number of APIs appear once only:')\n",
    "len(sum_api[sum_api[0] == 1])"
   ]
  },
  {
   "cell_type": "markdown",
   "metadata": {},
   "source": [
    "When metapath entries gets too large, this data can be helpful by removing all API calls appear only once."
   ]
  },
  {
   "cell_type": "markdown",
   "metadata": {},
   "source": [
    "### Baseline Model"
   ]
  },
  {
   "cell_type": "markdown",
   "metadata": {},
   "source": [
    "Features extracted above will be used for baseline model training including logistic regression, random forest, and gradient boost classifier."
   ]
  },
  {
   "cell_type": "code",
   "execution_count": 12,
   "metadata": {},
   "outputs": [],
   "source": [
    "X = app_df.drop('category', axis = 1)\n",
    "y = app_df.category"
   ]
  },
  {
   "cell_type": "code",
   "execution_count": 10,
   "metadata": {},
   "outputs": [],
   "source": [
    "from sklearn.model_selection import train_test_split"
   ]
  },
  {
   "cell_type": "code",
   "execution_count": 13,
   "metadata": {},
   "outputs": [],
   "source": [
    "X_train, X_test, y_train, y_test = train_test_split(X, y, test_size = 0.33, shuffle = True)"
   ]
  },
  {
   "cell_type": "code",
   "execution_count": 18,
   "metadata": {},
   "outputs": [],
   "source": [
    "metric_lr = Logistic_Regression(X_train, y_train, X_test, y_test)\n",
    "lr = compute_metrics(list(metric_lr))"
   ]
  },
  {
   "cell_type": "code",
   "execution_count": 23,
   "metadata": {},
   "outputs": [],
   "source": [
    "metric_rf = Random_Forest(X_train, y_train, X_test, y_test)\n",
    "rf = compute_metrics(list(metric_rf))"
   ]
  },
  {
   "cell_type": "code",
   "execution_count": 26,
   "metadata": {},
   "outputs": [],
   "source": [
    "metric_gbc = GBC(X_train, y_train, X_test, y_test)\n",
    "bgc = compute_metrics(list(metric_gbc))"
   ]
  },
  {
   "cell_type": "code",
   "execution_count": 28,
   "metadata": {},
   "outputs": [],
   "source": [
    "baseline = pd.DataFrame([lr, rf, bgc], index = ['logistic regression', 'random forest', 'gradient boost classifier'], columns = ['tn', 'fp', 'fn', 'tp', 'acc', 'fnr'])"
   ]
  },
  {
   "cell_type": "code",
   "execution_count": 29,
   "metadata": {},
   "outputs": [
    {
     "data": {
      "text/html": [
       "<div>\n",
       "<style scoped>\n",
       "    .dataframe tbody tr th:only-of-type {\n",
       "        vertical-align: middle;\n",
       "    }\n",
       "\n",
       "    .dataframe tbody tr th {\n",
       "        vertical-align: top;\n",
       "    }\n",
       "\n",
       "    .dataframe thead th {\n",
       "        text-align: right;\n",
       "    }\n",
       "</style>\n",
       "<table border=\"1\" class=\"dataframe\">\n",
       "  <thead>\n",
       "    <tr style=\"text-align: right;\">\n",
       "      <th></th>\n",
       "      <th>tn</th>\n",
       "      <th>fp</th>\n",
       "      <th>fn</th>\n",
       "      <th>tp</th>\n",
       "      <th>acc</th>\n",
       "      <th>fnr</th>\n",
       "    </tr>\n",
       "  </thead>\n",
       "  <tbody>\n",
       "    <tr>\n",
       "      <th>logistic regression</th>\n",
       "      <td>11</td>\n",
       "      <td>5</td>\n",
       "      <td>2</td>\n",
       "      <td>15</td>\n",
       "      <td>0.787879</td>\n",
       "      <td>0.117647</td>\n",
       "    </tr>\n",
       "    <tr>\n",
       "      <th>random forest</th>\n",
       "      <td>15</td>\n",
       "      <td>1</td>\n",
       "      <td>1</td>\n",
       "      <td>16</td>\n",
       "      <td>0.939394</td>\n",
       "      <td>0.058824</td>\n",
       "    </tr>\n",
       "    <tr>\n",
       "      <th>gradient boost classifier</th>\n",
       "      <td>16</td>\n",
       "      <td>0</td>\n",
       "      <td>1</td>\n",
       "      <td>16</td>\n",
       "      <td>0.969697</td>\n",
       "      <td>0.058824</td>\n",
       "    </tr>\n",
       "  </tbody>\n",
       "</table>\n",
       "</div>"
      ],
      "text/plain": [
       "                           tn  fp  fn  tp       acc       fnr\n",
       "logistic regression        11   5   2  15  0.787879  0.117647\n",
       "random forest              15   1   1  16  0.939394  0.058824\n",
       "gradient boost classifier  16   0   1  16  0.969697  0.058824"
      ]
     },
     "execution_count": 29,
     "metadata": {},
     "output_type": "execute_result"
    }
   ],
   "source": [
    "baseline"
   ]
  },
  {
   "cell_type": "markdown",
   "metadata": {},
   "source": [
    "From the result dataframe, we can observe that the performace of logistic regression is not as good as the other two, and gradient boost classifier performs the best with an accuracy score of 0.97."
   ]
  },
  {
   "cell_type": "markdown",
   "metadata": {},
   "source": [
    "### The HIN"
   ]
  },
  {
   "cell_type": "markdown",
   "metadata": {},
   "source": [
    "Now constructing model and kernels with the Hindroid approach. "
   ]
  },
  {
   "cell_type": "code",
   "execution_count": 6,
   "metadata": {},
   "outputs": [],
   "source": [
    "ben_smali_df = pd.DataFrame(benign_smali)\n",
    "ben_smali_df['malware'] = 0\n",
    "mal_smali_df = pd.DataFrame(mal_smali)\n",
    "mal_smali_df['malware'] = 1"
   ]
  },
  {
   "cell_type": "code",
   "execution_count": 7,
   "metadata": {},
   "outputs": [],
   "source": [
    "entire = ben_smali_df.append(mal_smali_df, ignore_index = True)"
   ]
  },
  {
   "cell_type": "code",
   "execution_count": 8,
   "metadata": {},
   "outputs": [],
   "source": [
    "X = entire.drop('malware', axis = 1)\n",
    "y = entire.malware"
   ]
  },
  {
   "cell_type": "code",
   "execution_count": 9,
   "metadata": {},
   "outputs": [],
   "source": [
    "from sklearn.model_selection import train_test_split\n",
    "X_train, X_test, y_train, y_test = train_test_split(X, y, test_size = 0.33, shuffle = True)"
   ]
  },
  {
   "cell_type": "code",
   "execution_count": 13,
   "metadata": {},
   "outputs": [],
   "source": [
    "mA, mB, mP, mA_test = A_B_P(X_train, X_test)"
   ]
  },
  {
   "cell_type": "code",
   "execution_count": 14,
   "metadata": {},
   "outputs": [
    {
     "data": {
      "text/plain": [
       "(66, 337807)"
      ]
     },
     "execution_count": 14,
     "metadata": {},
     "output_type": "execute_result"
    }
   ],
   "source": [
    "mA.shape"
   ]
  },
  {
   "cell_type": "code",
   "execution_count": 15,
   "metadata": {},
   "outputs": [
    {
     "data": {
      "text/plain": [
       "(337807, 337807)"
      ]
     },
     "execution_count": 15,
     "metadata": {},
     "output_type": "execute_result"
    }
   ],
   "source": [
    "mB.shape"
   ]
  },
  {
   "cell_type": "code",
   "execution_count": 16,
   "metadata": {},
   "outputs": [
    {
     "data": {
      "text/plain": [
       "(337807, 337807)"
      ]
     },
     "execution_count": 16,
     "metadata": {},
     "output_type": "execute_result"
    }
   ],
   "source": [
    "mP.shape"
   ]
  },
  {
   "cell_type": "code",
   "execution_count": 17,
   "metadata": {
    "scrolled": true
   },
   "outputs": [],
   "source": [
    "kernels_train = kernel_train(mA, mB, mP)"
   ]
  },
  {
   "cell_type": "code",
   "execution_count": 18,
   "metadata": {},
   "outputs": [],
   "source": [
    "kernels_test = kernel_test(mA, mA_test, mB, mP)"
   ]
  },
  {
   "cell_type": "markdown",
   "metadata": {},
   "source": [
    "#### AA^T"
   ]
  },
  {
   "cell_type": "code",
   "execution_count": 42,
   "metadata": {},
   "outputs": [],
   "source": [
    "aa= SVM_result(kernels_train[0].todense(), kernels_test[0].todense(), y_train, y_test)\n",
    "aa_train = aa['train']\n",
    "aa_test = aa['test']"
   ]
  },
  {
   "cell_type": "markdown",
   "metadata": {},
   "source": [
    "#### ABA^T"
   ]
  },
  {
   "cell_type": "code",
   "execution_count": 43,
   "metadata": {},
   "outputs": [],
   "source": [
    "aba = SVM_result(kernels_train[1].todense(), kernels_test[1].todense(), y_train, y_test)\n",
    "aba_train = aba['train']\n",
    "aba_test = aba['test']"
   ]
  },
  {
   "cell_type": "markdown",
   "metadata": {},
   "source": [
    "#### APA^T"
   ]
  },
  {
   "cell_type": "code",
   "execution_count": 44,
   "metadata": {},
   "outputs": [],
   "source": [
    "apa= SVM_result(kernels_train[2].todense(), kernels_test[2].todense(), y_train, y_test)\n",
    "apa_train = apa['train']\n",
    "apa_test = apa['test']"
   ]
  },
  {
   "cell_type": "markdown",
   "metadata": {},
   "source": [
    "#### APBP^TA^T"
   ]
  },
  {
   "cell_type": "code",
   "execution_count": 45,
   "metadata": {},
   "outputs": [],
   "source": [
    "apbpa = SVM_result(kernels_train[3].todense(), kernels_test[3].todense(), y_train, y_test)\n",
    "apbpa_train = apbpa['train']\n",
    "apbpa_test = apbpa['test']"
   ]
  },
  {
   "cell_type": "markdown",
   "metadata": {},
   "source": [
    "#### HIN Result on Training"
   ]
  },
  {
   "cell_type": "code",
   "execution_count": 49,
   "metadata": {},
   "outputs": [],
   "source": [
    "HIN_train = pd.DataFrame([aa_train, aba_train, apa_train, apbpa_train], index = ['AA^T', 'ABA^T', 'APA^T', 'APBP^TA^T'], columns = ['tn', 'fp', 'fn', 'tp', 'acc', 'fnr'])"
   ]
  },
  {
   "cell_type": "code",
   "execution_count": 51,
   "metadata": {},
   "outputs": [
    {
     "data": {
      "text/html": [
       "<div>\n",
       "<style scoped>\n",
       "    .dataframe tbody tr th:only-of-type {\n",
       "        vertical-align: middle;\n",
       "    }\n",
       "\n",
       "    .dataframe tbody tr th {\n",
       "        vertical-align: top;\n",
       "    }\n",
       "\n",
       "    .dataframe thead th {\n",
       "        text-align: right;\n",
       "    }\n",
       "</style>\n",
       "<table border=\"1\" class=\"dataframe\">\n",
       "  <thead>\n",
       "    <tr style=\"text-align: right;\">\n",
       "      <th></th>\n",
       "      <th>tn</th>\n",
       "      <th>fp</th>\n",
       "      <th>fn</th>\n",
       "      <th>tp</th>\n",
       "      <th>acc</th>\n",
       "      <th>fnr</th>\n",
       "    </tr>\n",
       "  </thead>\n",
       "  <tbody>\n",
       "    <tr>\n",
       "      <th>AA^T</th>\n",
       "      <td>32</td>\n",
       "      <td>0</td>\n",
       "      <td>0</td>\n",
       "      <td>34</td>\n",
       "      <td>1.000000</td>\n",
       "      <td>0.0</td>\n",
       "    </tr>\n",
       "    <tr>\n",
       "      <th>ABA^T</th>\n",
       "      <td>0</td>\n",
       "      <td>32</td>\n",
       "      <td>0</td>\n",
       "      <td>34</td>\n",
       "      <td>0.515152</td>\n",
       "      <td>0.0</td>\n",
       "    </tr>\n",
       "    <tr>\n",
       "      <th>APA^T</th>\n",
       "      <td>32</td>\n",
       "      <td>0</td>\n",
       "      <td>0</td>\n",
       "      <td>34</td>\n",
       "      <td>1.000000</td>\n",
       "      <td>0.0</td>\n",
       "    </tr>\n",
       "    <tr>\n",
       "      <th>APBP^TA^T</th>\n",
       "      <td>0</td>\n",
       "      <td>32</td>\n",
       "      <td>0</td>\n",
       "      <td>34</td>\n",
       "      <td>0.515152</td>\n",
       "      <td>0.0</td>\n",
       "    </tr>\n",
       "  </tbody>\n",
       "</table>\n",
       "</div>"
      ],
      "text/plain": [
       "           tn  fp  fn  tp       acc  fnr\n",
       "AA^T       32   0   0  34  1.000000  0.0\n",
       "ABA^T       0  32   0  34  0.515152  0.0\n",
       "APA^T      32   0   0  34  1.000000  0.0\n",
       "APBP^TA^T   0  32   0  34  0.515152  0.0"
      ]
     },
     "execution_count": 51,
     "metadata": {},
     "output_type": "execute_result"
    }
   ],
   "source": [
    "HIN_train"
   ]
  },
  {
   "cell_type": "markdown",
   "metadata": {},
   "source": [
    "#### HIN Result on Test"
   ]
  },
  {
   "cell_type": "code",
   "execution_count": 52,
   "metadata": {},
   "outputs": [],
   "source": [
    "HIN_test = pd.DataFrame([aa_test, aba_test, apa_test, apbpa_test], index = ['AA^T', 'ABA^T', 'APA^T', 'APBP^TA^T'], columns = ['tn', 'fp', 'fn', 'tp', 'acc', 'fnr'])"
   ]
  },
  {
   "cell_type": "code",
   "execution_count": 53,
   "metadata": {},
   "outputs": [
    {
     "data": {
      "text/html": [
       "<div>\n",
       "<style scoped>\n",
       "    .dataframe tbody tr th:only-of-type {\n",
       "        vertical-align: middle;\n",
       "    }\n",
       "\n",
       "    .dataframe tbody tr th {\n",
       "        vertical-align: top;\n",
       "    }\n",
       "\n",
       "    .dataframe thead th {\n",
       "        text-align: right;\n",
       "    }\n",
       "</style>\n",
       "<table border=\"1\" class=\"dataframe\">\n",
       "  <thead>\n",
       "    <tr style=\"text-align: right;\">\n",
       "      <th></th>\n",
       "      <th>tn</th>\n",
       "      <th>fp</th>\n",
       "      <th>fn</th>\n",
       "      <th>tp</th>\n",
       "      <th>acc</th>\n",
       "      <th>fnr</th>\n",
       "    </tr>\n",
       "  </thead>\n",
       "  <tbody>\n",
       "    <tr>\n",
       "      <th>AA^T</th>\n",
       "      <td>16</td>\n",
       "      <td>1</td>\n",
       "      <td>0</td>\n",
       "      <td>16</td>\n",
       "      <td>0.969697</td>\n",
       "      <td>0.0000</td>\n",
       "    </tr>\n",
       "    <tr>\n",
       "      <th>ABA^T</th>\n",
       "      <td>0</td>\n",
       "      <td>17</td>\n",
       "      <td>0</td>\n",
       "      <td>16</td>\n",
       "      <td>0.484848</td>\n",
       "      <td>0.0000</td>\n",
       "    </tr>\n",
       "    <tr>\n",
       "      <th>APA^T</th>\n",
       "      <td>15</td>\n",
       "      <td>2</td>\n",
       "      <td>3</td>\n",
       "      <td>13</td>\n",
       "      <td>0.848485</td>\n",
       "      <td>0.1875</td>\n",
       "    </tr>\n",
       "    <tr>\n",
       "      <th>APBP^TA^T</th>\n",
       "      <td>0</td>\n",
       "      <td>17</td>\n",
       "      <td>0</td>\n",
       "      <td>16</td>\n",
       "      <td>0.484848</td>\n",
       "      <td>0.0000</td>\n",
       "    </tr>\n",
       "  </tbody>\n",
       "</table>\n",
       "</div>"
      ],
      "text/plain": [
       "           tn  fp  fn  tp       acc     fnr\n",
       "AA^T       16   1   0  16  0.969697  0.0000\n",
       "ABA^T       0  17   0  16  0.484848  0.0000\n",
       "APA^T      15   2   3  13  0.848485  0.1875\n",
       "APBP^TA^T   0  17   0  16  0.484848  0.0000"
      ]
     },
     "execution_count": 53,
     "metadata": {},
     "output_type": "execute_result"
    }
   ],
   "source": [
    "HIN_test"
   ]
  },
  {
   "cell_type": "code",
   "execution_count": 12,
   "metadata": {},
   "outputs": [
    {
     "name": "stdout",
     "output_type": "stream",
     "text": [
      "Matrices construction:\n",
      "--- start\n",
      "--- saving matrics\n",
      "--- Done!\n",
      "Kernel construction:\n",
      "--- start\n",
      "--- Done!\n",
      "SVM training:\n",
      "--- start\n",
      "25%\n",
      "50%\n",
      "75%\n",
      "100%\n",
      "--- saving result metrics\n",
      "--- Finished all kernel tasks!\n"
     ]
    }
   ],
   "source": [
    "run_kernel(X, y)"
   ]
  },
  {
   "cell_type": "code",
   "execution_count": null,
   "metadata": {},
   "outputs": [],
   "source": []
  }
 ],
 "metadata": {
  "kernelspec": {
   "display_name": "Python 3",
   "language": "python",
   "name": "python3"
  },
  "language_info": {
   "codemirror_mode": {
    "name": "ipython",
    "version": 3
   },
   "file_extension": ".py",
   "mimetype": "text/x-python",
   "name": "python",
   "nbconvert_exporter": "python",
   "pygments_lexer": "ipython3",
   "version": "3.7.3"
  }
 },
 "nbformat": 4,
 "nbformat_minor": 2
}
