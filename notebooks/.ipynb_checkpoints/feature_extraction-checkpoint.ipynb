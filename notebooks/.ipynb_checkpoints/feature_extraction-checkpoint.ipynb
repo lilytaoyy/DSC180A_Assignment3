{
 "cells": [
  {
   "cell_type": "code",
   "execution_count": 1,
   "metadata": {},
   "outputs": [],
   "source": [
    "%load_ext autoreload\n",
    "%autoreload 2"
   ]
  },
  {
   "cell_type": "code",
   "execution_count": 11,
   "metadata": {},
   "outputs": [],
   "source": [
    "import matplotlib.pyplot as plt\n",
    "import re\n",
    "import itertools\n",
    "import os\n",
    "import pandas as pd\n",
    "import numpy as np\n",
    "import json\n",
    "from src import feature_extraction\n",
    "from src import baseline_model_training\n",
    "from src import matrix_construction"
   ]
  },
  {
   "cell_type": "code",
   "execution_count": 3,
   "metadata": {},
   "outputs": [],
   "source": [
    "with open('config/data-params.json') as f:\n",
    "    params = json.load(f)\n",
    "sitemap = params['sitemap']\n",
    "out = params['path']\n",
    "num = params['num']\n",
    "cat = params['cat']\n",
    "malware_path = params['malware']"
   ]
  },
  {
   "cell_type": "code",
   "execution_count": 4,
   "metadata": {},
   "outputs": [],
   "source": [
    "df1 = feature_extraction.generate_df(out, cat[0])\n",
    "df2 = feature_extraction.generate_df(out, cat[1])"
   ]
  },
  {
   "cell_type": "code",
   "execution_count": 5,
   "metadata": {},
   "outputs": [],
   "source": [
    "app_df = pd.concat([df1,df2])"
   ]
  },
  {
   "cell_type": "markdown",
   "metadata": {},
   "source": [
    "**Benign App DataFrame**"
   ]
  },
  {
   "cell_type": "code",
   "execution_count": 5,
   "metadata": {},
   "outputs": [
    {
     "data": {
      "text/html": [
       "<div>\n",
       "<style scoped>\n",
       "    .dataframe tbody tr th:only-of-type {\n",
       "        vertical-align: middle;\n",
       "    }\n",
       "\n",
       "    .dataframe tbody tr th {\n",
       "        vertical-align: top;\n",
       "    }\n",
       "\n",
       "    .dataframe thead th {\n",
       "        text-align: right;\n",
       "    }\n",
       "</style>\n",
       "<table border=\"1\" class=\"dataframe\">\n",
       "  <thead>\n",
       "    <tr style=\"text-align: right;\">\n",
       "      <th></th>\n",
       "      <th>app_names</th>\n",
       "      <th>num_code_block</th>\n",
       "      <th>num_uni_block</th>\n",
       "      <th>num_api</th>\n",
       "      <th>num_uni_api</th>\n",
       "      <th>num_package</th>\n",
       "      <th>num_uni_package</th>\n",
       "      <th>num_invoke</th>\n",
       "      <th>category</th>\n",
       "    </tr>\n",
       "  </thead>\n",
       "  <tbody>\n",
       "    <tr>\n",
       "      <th>0</th>\n",
       "      <td>com.barilab.handmirror.googlemarket</td>\n",
       "      <td>46518</td>\n",
       "      <td>42950</td>\n",
       "      <td>151476</td>\n",
       "      <td>26212</td>\n",
       "      <td>155257</td>\n",
       "      <td>7874</td>\n",
       "      <td>155257</td>\n",
       "      <td>beauty</td>\n",
       "    </tr>\n",
       "    <tr>\n",
       "      <th>1</th>\n",
       "      <td>com.jkfantasy.camera.jkpmirrorcamera</td>\n",
       "      <td>19830</td>\n",
       "      <td>18644</td>\n",
       "      <td>71771</td>\n",
       "      <td>12568</td>\n",
       "      <td>73118</td>\n",
       "      <td>3891</td>\n",
       "      <td>73118</td>\n",
       "      <td>beauty</td>\n",
       "    </tr>\n",
       "    <tr>\n",
       "      <th>2</th>\n",
       "      <td>yamayka.apps.NailsTutorial</td>\n",
       "      <td>27242</td>\n",
       "      <td>26150</td>\n",
       "      <td>88956</td>\n",
       "      <td>19975</td>\n",
       "      <td>90499</td>\n",
       "      <td>4663</td>\n",
       "      <td>90499</td>\n",
       "      <td>beauty</td>\n",
       "    </tr>\n",
       "    <tr>\n",
       "      <th>3</th>\n",
       "      <td>com.mobincube.android.sc_3HJUC5</td>\n",
       "      <td>48809</td>\n",
       "      <td>46253</td>\n",
       "      <td>185977</td>\n",
       "      <td>34607</td>\n",
       "      <td>189372</td>\n",
       "      <td>8476</td>\n",
       "      <td>189372</td>\n",
       "      <td>beauty</td>\n",
       "    </tr>\n",
       "    <tr>\n",
       "      <th>4</th>\n",
       "      <td>com.beautytalk.android</td>\n",
       "      <td>53370</td>\n",
       "      <td>50844</td>\n",
       "      <td>192683</td>\n",
       "      <td>37697</td>\n",
       "      <td>196413</td>\n",
       "      <td>8312</td>\n",
       "      <td>196413</td>\n",
       "      <td>beauty</td>\n",
       "    </tr>\n",
       "    <tr>\n",
       "      <th>5</th>\n",
       "      <td>com.ulta</td>\n",
       "      <td>0</td>\n",
       "      <td>0</td>\n",
       "      <td>0</td>\n",
       "      <td>0</td>\n",
       "      <td>0</td>\n",
       "      <td>0</td>\n",
       "      <td>0</td>\n",
       "      <td>beauty</td>\n",
       "    </tr>\n",
       "    <tr>\n",
       "      <th>6</th>\n",
       "      <td>com.skollabs.nails</td>\n",
       "      <td>31288</td>\n",
       "      <td>28726</td>\n",
       "      <td>110608</td>\n",
       "      <td>18163</td>\n",
       "      <td>112033</td>\n",
       "      <td>5525</td>\n",
       "      <td>112033</td>\n",
       "      <td>beauty</td>\n",
       "    </tr>\n",
       "    <tr>\n",
       "      <th>7</th>\n",
       "      <td>com.sephora</td>\n",
       "      <td>0</td>\n",
       "      <td>0</td>\n",
       "      <td>0</td>\n",
       "      <td>0</td>\n",
       "      <td>0</td>\n",
       "      <td>0</td>\n",
       "      <td>0</td>\n",
       "      <td>beauty</td>\n",
       "    </tr>\n",
       "    <tr>\n",
       "      <th>9</th>\n",
       "      <td>com.abto.morenails</td>\n",
       "      <td>13139</td>\n",
       "      <td>11496</td>\n",
       "      <td>50303</td>\n",
       "      <td>7970</td>\n",
       "      <td>51128</td>\n",
       "      <td>2882</td>\n",
       "      <td>51128</td>\n",
       "      <td>beauty</td>\n",
       "    </tr>\n",
       "    <tr>\n",
       "      <th>10</th>\n",
       "      <td>yamayka.apps.Makeup</td>\n",
       "      <td>27245</td>\n",
       "      <td>26152</td>\n",
       "      <td>88975</td>\n",
       "      <td>19978</td>\n",
       "      <td>90518</td>\n",
       "      <td>4664</td>\n",
       "      <td>90518</td>\n",
       "      <td>beauty</td>\n",
       "    </tr>\n",
       "    <tr>\n",
       "      <th>11</th>\n",
       "      <td>com.Fashion.Nails.Girls.Game</td>\n",
       "      <td>35106</td>\n",
       "      <td>33439</td>\n",
       "      <td>117705</td>\n",
       "      <td>24414</td>\n",
       "      <td>120019</td>\n",
       "      <td>5846</td>\n",
       "      <td>120019</td>\n",
       "      <td>beauty</td>\n",
       "    </tr>\n",
       "    <tr>\n",
       "      <th>12</th>\n",
       "      <td>com.beautylish</td>\n",
       "      <td>40816</td>\n",
       "      <td>39383</td>\n",
       "      <td>122776</td>\n",
       "      <td>26614</td>\n",
       "      <td>125643</td>\n",
       "      <td>5569</td>\n",
       "      <td>125643</td>\n",
       "      <td>beauty</td>\n",
       "    </tr>\n",
       "    <tr>\n",
       "      <th>13</th>\n",
       "      <td>com.helena.nailstyles</td>\n",
       "      <td>33642</td>\n",
       "      <td>31896</td>\n",
       "      <td>105779</td>\n",
       "      <td>22918</td>\n",
       "      <td>108380</td>\n",
       "      <td>5874</td>\n",
       "      <td>108380</td>\n",
       "      <td>beauty</td>\n",
       "    </tr>\n",
       "    <tr>\n",
       "      <th>14</th>\n",
       "      <td>yamayka.apps.dress</td>\n",
       "      <td>27241</td>\n",
       "      <td>26149</td>\n",
       "      <td>88955</td>\n",
       "      <td>19975</td>\n",
       "      <td>90498</td>\n",
       "      <td>4663</td>\n",
       "      <td>90498</td>\n",
       "      <td>beauty</td>\n",
       "    </tr>\n",
       "    <tr>\n",
       "      <th>15</th>\n",
       "      <td>com.northpark.beautycamera</td>\n",
       "      <td>51008</td>\n",
       "      <td>47508</td>\n",
       "      <td>177928</td>\n",
       "      <td>29450</td>\n",
       "      <td>181595</td>\n",
       "      <td>8597</td>\n",
       "      <td>181595</td>\n",
       "      <td>beauty</td>\n",
       "    </tr>\n",
       "    <tr>\n",
       "      <th>16</th>\n",
       "      <td>com.blst.hairstyles</td>\n",
       "      <td>32805</td>\n",
       "      <td>30840</td>\n",
       "      <td>97025</td>\n",
       "      <td>20925</td>\n",
       "      <td>98820</td>\n",
       "      <td>4978</td>\n",
       "      <td>98820</td>\n",
       "      <td>beauty</td>\n",
       "    </tr>\n",
       "    <tr>\n",
       "      <th>17</th>\n",
       "      <td>com.High.Heels.Designer.Girl.Games</td>\n",
       "      <td>27865</td>\n",
       "      <td>26476</td>\n",
       "      <td>92763</td>\n",
       "      <td>19938</td>\n",
       "      <td>94339</td>\n",
       "      <td>4711</td>\n",
       "      <td>94339</td>\n",
       "      <td>beauty</td>\n",
       "    </tr>\n",
       "    <tr>\n",
       "      <th>18</th>\n",
       "      <td>com.alek.womanmag</td>\n",
       "      <td>38153</td>\n",
       "      <td>36922</td>\n",
       "      <td>123294</td>\n",
       "      <td>26965</td>\n",
       "      <td>126170</td>\n",
       "      <td>6184</td>\n",
       "      <td>126170</td>\n",
       "      <td>beauty</td>\n",
       "    </tr>\n",
       "    <tr>\n",
       "      <th>19</th>\n",
       "      <td>com.styleseat.promobile</td>\n",
       "      <td>32212</td>\n",
       "      <td>30955</td>\n",
       "      <td>112857</td>\n",
       "      <td>23162</td>\n",
       "      <td>117117</td>\n",
       "      <td>5121</td>\n",
       "      <td>117117</td>\n",
       "      <td>beauty</td>\n",
       "    </tr>\n",
       "    <tr>\n",
       "      <th>20</th>\n",
       "      <td>com.camerasideas.instagramfit</td>\n",
       "      <td>40899</td>\n",
       "      <td>39010</td>\n",
       "      <td>128341</td>\n",
       "      <td>27423</td>\n",
       "      <td>132202</td>\n",
       "      <td>5942</td>\n",
       "      <td>132202</td>\n",
       "      <td>beauty</td>\n",
       "    </tr>\n",
       "    <tr>\n",
       "      <th>0</th>\n",
       "      <td>com.skype.android.qik</td>\n",
       "      <td>29201</td>\n",
       "      <td>27964</td>\n",
       "      <td>91832</td>\n",
       "      <td>18471</td>\n",
       "      <td>94357</td>\n",
       "      <td>4536</td>\n",
       "      <td>94357</td>\n",
       "      <td>communication</td>\n",
       "    </tr>\n",
       "    <tr>\n",
       "      <th>1</th>\n",
       "      <td>gogolook.callgogolook2</td>\n",
       "      <td>0</td>\n",
       "      <td>0</td>\n",
       "      <td>0</td>\n",
       "      <td>0</td>\n",
       "      <td>0</td>\n",
       "      <td>0</td>\n",
       "      <td>0</td>\n",
       "      <td>communication</td>\n",
       "    </tr>\n",
       "    <tr>\n",
       "      <th>2</th>\n",
       "      <td>com.contapps.android.messaging</td>\n",
       "      <td>37</td>\n",
       "      <td>37</td>\n",
       "      <td>134</td>\n",
       "      <td>70</td>\n",
       "      <td>135</td>\n",
       "      <td>24</td>\n",
       "      <td>135</td>\n",
       "      <td>communication</td>\n",
       "    </tr>\n",
       "    <tr>\n",
       "      <th>3</th>\n",
       "      <td>app.calleridfaker.com</td>\n",
       "      <td>54839</td>\n",
       "      <td>51974</td>\n",
       "      <td>175553</td>\n",
       "      <td>36234</td>\n",
       "      <td>179986</td>\n",
       "      <td>9023</td>\n",
       "      <td>179986</td>\n",
       "      <td>communication</td>\n",
       "    </tr>\n",
       "    <tr>\n",
       "      <th>4</th>\n",
       "      <td>org.thoughtcrime.redphone</td>\n",
       "      <td>10774</td>\n",
       "      <td>10528</td>\n",
       "      <td>23478</td>\n",
       "      <td>8337</td>\n",
       "      <td>24397</td>\n",
       "      <td>1489</td>\n",
       "      <td>24397</td>\n",
       "      <td>communication</td>\n",
       "    </tr>\n",
       "    <tr>\n",
       "      <th>5</th>\n",
       "      <td>com.onexsoftech.callerlocation</td>\n",
       "      <td>41612</td>\n",
       "      <td>38935</td>\n",
       "      <td>152135</td>\n",
       "      <td>25742</td>\n",
       "      <td>155603</td>\n",
       "      <td>7291</td>\n",
       "      <td>155603</td>\n",
       "      <td>communication</td>\n",
       "    </tr>\n",
       "    <tr>\n",
       "      <th>6</th>\n",
       "      <td>com.syncme.syncmeapp</td>\n",
       "      <td>53099</td>\n",
       "      <td>50674</td>\n",
       "      <td>174089</td>\n",
       "      <td>35368</td>\n",
       "      <td>178091</td>\n",
       "      <td>8382</td>\n",
       "      <td>178091</td>\n",
       "      <td>communication</td>\n",
       "    </tr>\n",
       "    <tr>\n",
       "      <th>7</th>\n",
       "      <td>com.aleskovacic.messenger</td>\n",
       "      <td>53992</td>\n",
       "      <td>51390</td>\n",
       "      <td>180088</td>\n",
       "      <td>36006</td>\n",
       "      <td>184224</td>\n",
       "      <td>8264</td>\n",
       "      <td>184224</td>\n",
       "      <td>communication</td>\n",
       "    </tr>\n",
       "    <tr>\n",
       "      <th>8</th>\n",
       "      <td>com.enlightment.voicecallrecorder</td>\n",
       "      <td>38728</td>\n",
       "      <td>35901</td>\n",
       "      <td>128427</td>\n",
       "      <td>22894</td>\n",
       "      <td>131998</td>\n",
       "      <td>6714</td>\n",
       "      <td>131998</td>\n",
       "      <td>communication</td>\n",
       "    </tr>\n",
       "    <tr>\n",
       "      <th>9</th>\n",
       "      <td>com.facebook.phone</td>\n",
       "      <td>1477</td>\n",
       "      <td>1443</td>\n",
       "      <td>5410</td>\n",
       "      <td>1601</td>\n",
       "      <td>5456</td>\n",
       "      <td>581</td>\n",
       "      <td>5456</td>\n",
       "      <td>communication</td>\n",
       "    </tr>\n",
       "    <tr>\n",
       "      <th>10</th>\n",
       "      <td>com.chrome.dev</td>\n",
       "      <td>0</td>\n",
       "      <td>0</td>\n",
       "      <td>0</td>\n",
       "      <td>0</td>\n",
       "      <td>0</td>\n",
       "      <td>0</td>\n",
       "      <td>0</td>\n",
       "      <td>communication</td>\n",
       "    </tr>\n",
       "    <tr>\n",
       "      <th>11</th>\n",
       "      <td>com.StephenFairchild.WirelessController.app</td>\n",
       "      <td>18380</td>\n",
       "      <td>17371</td>\n",
       "      <td>54774</td>\n",
       "      <td>12228</td>\n",
       "      <td>55811</td>\n",
       "      <td>2826</td>\n",
       "      <td>55811</td>\n",
       "      <td>communication</td>\n",
       "    </tr>\n",
       "    <tr>\n",
       "      <th>12</th>\n",
       "      <td>com.aol.mobile.aim</td>\n",
       "      <td>25146</td>\n",
       "      <td>24538</td>\n",
       "      <td>85493</td>\n",
       "      <td>19683</td>\n",
       "      <td>88614</td>\n",
       "      <td>4047</td>\n",
       "      <td>88614</td>\n",
       "      <td>communication</td>\n",
       "    </tr>\n",
       "    <tr>\n",
       "      <th>13</th>\n",
       "      <td>com.hitalkphone.hitalk</td>\n",
       "      <td>42173</td>\n",
       "      <td>39290</td>\n",
       "      <td>177548</td>\n",
       "      <td>25387</td>\n",
       "      <td>180100</td>\n",
       "      <td>8145</td>\n",
       "      <td>180100</td>\n",
       "      <td>communication</td>\n",
       "    </tr>\n",
       "    <tr>\n",
       "      <th>14</th>\n",
       "      <td>com.radicalapps.cyberdust</td>\n",
       "      <td>55037</td>\n",
       "      <td>51983</td>\n",
       "      <td>175020</td>\n",
       "      <td>35776</td>\n",
       "      <td>178939</td>\n",
       "      <td>8358</td>\n",
       "      <td>178939</td>\n",
       "      <td>communication</td>\n",
       "    </tr>\n",
       "    <tr>\n",
       "      <th>15</th>\n",
       "      <td>share.hotspot.myfi</td>\n",
       "      <td>35058</td>\n",
       "      <td>32566</td>\n",
       "      <td>112773</td>\n",
       "      <td>21589</td>\n",
       "      <td>114335</td>\n",
       "      <td>5865</td>\n",
       "      <td>114335</td>\n",
       "      <td>communication</td>\n",
       "    </tr>\n",
       "  </tbody>\n",
       "</table>\n",
       "</div>"
      ],
      "text/plain": [
       "                                      app_names  num_code_block  \\\n",
       "0           com.barilab.handmirror.googlemarket           46518   \n",
       "1          com.jkfantasy.camera.jkpmirrorcamera           19830   \n",
       "2                    yamayka.apps.NailsTutorial           27242   \n",
       "3               com.mobincube.android.sc_3HJUC5           48809   \n",
       "4                        com.beautytalk.android           53370   \n",
       "5                                      com.ulta               0   \n",
       "6                            com.skollabs.nails           31288   \n",
       "7                                   com.sephora               0   \n",
       "9                            com.abto.morenails           13139   \n",
       "10                          yamayka.apps.Makeup           27245   \n",
       "11                 com.Fashion.Nails.Girls.Game           35106   \n",
       "12                               com.beautylish           40816   \n",
       "13                        com.helena.nailstyles           33642   \n",
       "14                           yamayka.apps.dress           27241   \n",
       "15                   com.northpark.beautycamera           51008   \n",
       "16                          com.blst.hairstyles           32805   \n",
       "17           com.High.Heels.Designer.Girl.Games           27865   \n",
       "18                            com.alek.womanmag           38153   \n",
       "19                      com.styleseat.promobile           32212   \n",
       "20                com.camerasideas.instagramfit           40899   \n",
       "0                         com.skype.android.qik           29201   \n",
       "1                        gogolook.callgogolook2               0   \n",
       "2                com.contapps.android.messaging              37   \n",
       "3                         app.calleridfaker.com           54839   \n",
       "4                     org.thoughtcrime.redphone           10774   \n",
       "5                com.onexsoftech.callerlocation           41612   \n",
       "6                          com.syncme.syncmeapp           53099   \n",
       "7                     com.aleskovacic.messenger           53992   \n",
       "8             com.enlightment.voicecallrecorder           38728   \n",
       "9                            com.facebook.phone            1477   \n",
       "10                               com.chrome.dev               0   \n",
       "11  com.StephenFairchild.WirelessController.app           18380   \n",
       "12                           com.aol.mobile.aim           25146   \n",
       "13                       com.hitalkphone.hitalk           42173   \n",
       "14                    com.radicalapps.cyberdust           55037   \n",
       "15                           share.hotspot.myfi           35058   \n",
       "\n",
       "    num_uni_block  num_api  num_uni_api  num_package  num_uni_package  \\\n",
       "0           42950   151476        26212       155257             7874   \n",
       "1           18644    71771        12568        73118             3891   \n",
       "2           26150    88956        19975        90499             4663   \n",
       "3           46253   185977        34607       189372             8476   \n",
       "4           50844   192683        37697       196413             8312   \n",
       "5               0        0            0            0                0   \n",
       "6           28726   110608        18163       112033             5525   \n",
       "7               0        0            0            0                0   \n",
       "9           11496    50303         7970        51128             2882   \n",
       "10          26152    88975        19978        90518             4664   \n",
       "11          33439   117705        24414       120019             5846   \n",
       "12          39383   122776        26614       125643             5569   \n",
       "13          31896   105779        22918       108380             5874   \n",
       "14          26149    88955        19975        90498             4663   \n",
       "15          47508   177928        29450       181595             8597   \n",
       "16          30840    97025        20925        98820             4978   \n",
       "17          26476    92763        19938        94339             4711   \n",
       "18          36922   123294        26965       126170             6184   \n",
       "19          30955   112857        23162       117117             5121   \n",
       "20          39010   128341        27423       132202             5942   \n",
       "0           27964    91832        18471        94357             4536   \n",
       "1               0        0            0            0                0   \n",
       "2              37      134           70          135               24   \n",
       "3           51974   175553        36234       179986             9023   \n",
       "4           10528    23478         8337        24397             1489   \n",
       "5           38935   152135        25742       155603             7291   \n",
       "6           50674   174089        35368       178091             8382   \n",
       "7           51390   180088        36006       184224             8264   \n",
       "8           35901   128427        22894       131998             6714   \n",
       "9            1443     5410         1601         5456              581   \n",
       "10              0        0            0            0                0   \n",
       "11          17371    54774        12228        55811             2826   \n",
       "12          24538    85493        19683        88614             4047   \n",
       "13          39290   177548        25387       180100             8145   \n",
       "14          51983   175020        35776       178939             8358   \n",
       "15          32566   112773        21589       114335             5865   \n",
       "\n",
       "    num_invoke       category  \n",
       "0       155257         beauty  \n",
       "1        73118         beauty  \n",
       "2        90499         beauty  \n",
       "3       189372         beauty  \n",
       "4       196413         beauty  \n",
       "5            0         beauty  \n",
       "6       112033         beauty  \n",
       "7            0         beauty  \n",
       "9        51128         beauty  \n",
       "10       90518         beauty  \n",
       "11      120019         beauty  \n",
       "12      125643         beauty  \n",
       "13      108380         beauty  \n",
       "14       90498         beauty  \n",
       "15      181595         beauty  \n",
       "16       98820         beauty  \n",
       "17       94339         beauty  \n",
       "18      126170         beauty  \n",
       "19      117117         beauty  \n",
       "20      132202         beauty  \n",
       "0        94357  communication  \n",
       "1            0  communication  \n",
       "2          135  communication  \n",
       "3       179986  communication  \n",
       "4        24397  communication  \n",
       "5       155603  communication  \n",
       "6       178091  communication  \n",
       "7       184224  communication  \n",
       "8       131998  communication  \n",
       "9         5456  communication  \n",
       "10           0  communication  \n",
       "11       55811  communication  \n",
       "12       88614  communication  \n",
       "13      180100  communication  \n",
       "14      178939  communication  \n",
       "15      114335  communication  "
      ]
     },
     "execution_count": 5,
     "metadata": {},
     "output_type": "execute_result"
    }
   ],
   "source": [
    "app_df"
   ]
  },
  {
   "cell_type": "code",
   "execution_count": 13,
   "metadata": {},
   "outputs": [
    {
     "data": {
      "text/html": [
       "<div>\n",
       "<style scoped>\n",
       "    .dataframe tbody tr th:only-of-type {\n",
       "        vertical-align: middle;\n",
       "    }\n",
       "\n",
       "    .dataframe tbody tr th {\n",
       "        vertical-align: top;\n",
       "    }\n",
       "\n",
       "    .dataframe thead th {\n",
       "        text-align: right;\n",
       "    }\n",
       "</style>\n",
       "<table border=\"1\" class=\"dataframe\">\n",
       "  <thead>\n",
       "    <tr style=\"text-align: right;\">\n",
       "      <th></th>\n",
       "      <th>num_code_block</th>\n",
       "      <th>num_uni_block</th>\n",
       "      <th>num_api</th>\n",
       "      <th>num_uni_api</th>\n",
       "      <th>num_package</th>\n",
       "      <th>num_uni_package</th>\n",
       "      <th>num_invoke</th>\n",
       "      <th>category</th>\n",
       "    </tr>\n",
       "  </thead>\n",
       "  <tbody>\n",
       "    <tr>\n",
       "      <th>count</th>\n",
       "      <td>32.000000</td>\n",
       "      <td>32.000000</td>\n",
       "      <td>32.000000</td>\n",
       "      <td>32.000000</td>\n",
       "      <td>32.000000</td>\n",
       "      <td>32.00000</td>\n",
       "      <td>32.000000</td>\n",
       "      <td>32.000000</td>\n",
       "    </tr>\n",
       "    <tr>\n",
       "      <th>mean</th>\n",
       "      <td>33960.656250</td>\n",
       "      <td>32137.093750</td>\n",
       "      <td>113903.937500</td>\n",
       "      <td>22448.125000</td>\n",
       "      <td>116411.468750</td>\n",
       "      <td>5603.65625</td>\n",
       "      <td>116411.468750</td>\n",
       "      <td>0.562500</td>\n",
       "    </tr>\n",
       "    <tr>\n",
       "      <th>std</th>\n",
       "      <td>14877.156333</td>\n",
       "      <td>14068.106607</td>\n",
       "      <td>52284.076134</td>\n",
       "      <td>9612.621517</td>\n",
       "      <td>53393.838299</td>\n",
       "      <td>2368.85122</td>\n",
       "      <td>53393.838299</td>\n",
       "      <td>0.504016</td>\n",
       "    </tr>\n",
       "    <tr>\n",
       "      <th>min</th>\n",
       "      <td>37.000000</td>\n",
       "      <td>37.000000</td>\n",
       "      <td>134.000000</td>\n",
       "      <td>70.000000</td>\n",
       "      <td>135.000000</td>\n",
       "      <td>24.00000</td>\n",
       "      <td>135.000000</td>\n",
       "      <td>0.000000</td>\n",
       "    </tr>\n",
       "    <tr>\n",
       "      <th>25%</th>\n",
       "      <td>27241.750000</td>\n",
       "      <td>26149.750000</td>\n",
       "      <td>88955.750000</td>\n",
       "      <td>19380.000000</td>\n",
       "      <td>90498.750000</td>\n",
       "      <td>4631.25000</td>\n",
       "      <td>90498.750000</td>\n",
       "      <td>0.000000</td>\n",
       "    </tr>\n",
       "    <tr>\n",
       "      <th>50%</th>\n",
       "      <td>34350.000000</td>\n",
       "      <td>32231.000000</td>\n",
       "      <td>112815.000000</td>\n",
       "      <td>22906.000000</td>\n",
       "      <td>115726.000000</td>\n",
       "      <td>5707.50000</td>\n",
       "      <td>115726.000000</td>\n",
       "      <td>1.000000</td>\n",
       "    </tr>\n",
       "    <tr>\n",
       "      <th>75%</th>\n",
       "      <td>43259.250000</td>\n",
       "      <td>40274.750000</td>\n",
       "      <td>157623.500000</td>\n",
       "      <td>27079.500000</td>\n",
       "      <td>161225.000000</td>\n",
       "      <td>7941.75000</td>\n",
       "      <td>161225.000000</td>\n",
       "      <td>1.000000</td>\n",
       "    </tr>\n",
       "    <tr>\n",
       "      <th>max</th>\n",
       "      <td>55037.000000</td>\n",
       "      <td>51983.000000</td>\n",
       "      <td>192683.000000</td>\n",
       "      <td>37697.000000</td>\n",
       "      <td>196413.000000</td>\n",
       "      <td>9023.00000</td>\n",
       "      <td>196413.000000</td>\n",
       "      <td>1.000000</td>\n",
       "    </tr>\n",
       "  </tbody>\n",
       "</table>\n",
       "</div>"
      ],
      "text/plain": [
       "       num_code_block  num_uni_block        num_api   num_uni_api  \\\n",
       "count       32.000000      32.000000      32.000000     32.000000   \n",
       "mean     33960.656250   32137.093750  113903.937500  22448.125000   \n",
       "std      14877.156333   14068.106607   52284.076134   9612.621517   \n",
       "min         37.000000      37.000000     134.000000     70.000000   \n",
       "25%      27241.750000   26149.750000   88955.750000  19380.000000   \n",
       "50%      34350.000000   32231.000000  112815.000000  22906.000000   \n",
       "75%      43259.250000   40274.750000  157623.500000  27079.500000   \n",
       "max      55037.000000   51983.000000  192683.000000  37697.000000   \n",
       "\n",
       "         num_package  num_uni_package     num_invoke   category  \n",
       "count      32.000000         32.00000      32.000000  32.000000  \n",
       "mean   116411.468750       5603.65625  116411.468750   0.562500  \n",
       "std     53393.838299       2368.85122   53393.838299   0.504016  \n",
       "min       135.000000         24.00000     135.000000   0.000000  \n",
       "25%     90498.750000       4631.25000   90498.750000   0.000000  \n",
       "50%    115726.000000       5707.50000  115726.000000   1.000000  \n",
       "75%    161225.000000       7941.75000  161225.000000   1.000000  \n",
       "max    196413.000000       9023.00000  196413.000000   1.000000  "
      ]
     },
     "execution_count": 13,
     "metadata": {},
     "output_type": "execute_result"
    }
   ],
   "source": [
    "app_df[app_df.num_api != 0].describe()"
   ]
  },
  {
   "cell_type": "markdown",
   "metadata": {},
   "source": [
    "**Number of benign App sampled**"
   ]
  },
  {
   "cell_type": "code",
   "execution_count": 7,
   "metadata": {},
   "outputs": [
    {
     "data": {
      "text/plain": [
       "36"
      ]
     },
     "execution_count": 7,
     "metadata": {},
     "output_type": "execute_result"
    }
   ],
   "source": [
    "len(app_df)"
   ]
  },
  {
   "cell_type": "markdown",
   "metadata": {},
   "source": [
    "**Histogram**"
   ]
  },
  {
   "cell_type": "code",
   "execution_count": 8,
   "metadata": {
    "scrolled": true
   },
   "outputs": [
    {
     "data": {
      "text/plain": [
       "<matplotlib.axes._subplots.AxesSubplot at 0x7f44a09c2fd0>"
      ]
     },
     "execution_count": 8,
     "metadata": {},
     "output_type": "execute_result"
    },
    {
     "data": {
      "image/png": "[encoded data removed]",
      "text/plain": [
       "<Figure size 432x288 with 1 Axes>"
      ]
     },
     "metadata": {
      "needs_background": "light"
     },
     "output_type": "display_data"
    }
   ],
   "source": [
    "app_df.plot.hist()"
   ]
  },
  {
   "cell_type": "code",
   "execution_count": null,
   "metadata": {},
   "outputs": [],
   "source": []
  },
  {
   "cell_type": "code",
   "execution_count": 11,
   "metadata": {},
   "outputs": [],
   "source": [
    "app_df['category'] = (app_df.category == 'beauty').astype(int)"
   ]
  },
  {
   "cell_type": "markdown",
   "metadata": {},
   "source": [
    "### beauty category"
   ]
  },
  {
   "cell_type": "code",
   "execution_count": 14,
   "metadata": {},
   "outputs": [
    {
     "data": {
      "text/plain": [
       "<matplotlib.axes._subplots.AxesSubplot at 0x7f449e2000f0>"
      ]
     },
     "execution_count": 14,
     "metadata": {},
     "output_type": "execute_result"
    },
    {
     "data": {
      "image/png": "[encoded data removed]",
      "text/plain": [
       "<Figure size 432x288 with 1 Axes>"
      ]
     },
     "metadata": {
      "needs_background": "light"
     },
     "output_type": "display_data"
    }
   ],
   "source": [
    "app_df[app_df.category == 1].plot.hist()"
   ]
  },
  {
   "cell_type": "markdown",
   "metadata": {},
   "source": [
    "### communication category"
   ]
  },
  {
   "cell_type": "code",
   "execution_count": 15,
   "metadata": {},
   "outputs": [
    {
     "data": {
      "text/plain": [
       "<matplotlib.axes._subplots.AxesSubplot at 0x7f449b8232b0>"
      ]
     },
     "execution_count": 15,
     "metadata": {},
     "output_type": "execute_result"
    },
    {
     "data": {
      "image/png": "[encoded data removed]",
      "text/plain": [
       "<Figure size 432x288 with 1 Axes>"
      ]
     },
     "metadata": {
      "needs_background": "light"
     },
     "output_type": "display_data"
    }
   ],
   "source": [
    "app_df[app_df.category == 0].plot.hist()"
   ]
  },
  {
   "cell_type": "code",
   "execution_count": 6,
   "metadata": {},
   "outputs": [],
   "source": [
    "benign_smali1 = feature_extraction.all_smali(feature_extraction.get_sub_dir(out + '/' + cat[0]))"
   ]
  },
  {
   "cell_type": "code",
   "execution_count": 7,
   "metadata": {},
   "outputs": [],
   "source": [
    "benign_smali2 = feature_extraction.all_smali(feature_extraction.get_sub_dir(out + '/' + cat[1]))"
   ]
  },
  {
   "cell_type": "code",
   "execution_count": 8,
   "metadata": {},
   "outputs": [],
   "source": [
    "beauty = pd.DataFrame(benign_smali1)\n",
    "communication = pd.DataFrame(benign_smali2)"
   ]
  },
  {
   "cell_type": "code",
   "execution_count": 9,
   "metadata": {},
   "outputs": [],
   "source": [
    "together = beauty.append(communication, ignore_index = True)"
   ]
  },
  {
   "cell_type": "code",
   "execution_count": 12,
   "metadata": {},
   "outputs": [],
   "source": [
    "A, apis = matrix_construction.A(together)"
   ]
  },
  {
   "cell_type": "code",
   "execution_count": 23,
   "metadata": {},
   "outputs": [],
   "source": [
    "sum_api = pd.DataFrame(A.todense(), columns = apis).sum().to_frame()"
   ]
  },
  {
   "cell_type": "markdown",
   "metadata": {},
   "source": [
    "### Number of APIs appear once only"
   ]
  },
  {
   "cell_type": "code",
   "execution_count": 25,
   "metadata": {
    "scrolled": true
   },
   "outputs": [
    {
     "data": {
      "text/plain": [
       "229858"
      ]
     },
     "execution_count": 25,
     "metadata": {},
     "output_type": "execute_result"
    }
   ],
   "source": [
    "len(sum_api[sum_api[0] == 1])"
   ]
  },
  {
   "cell_type": "markdown",
   "metadata": {},
   "source": [
    "When matrix B gets too large, this data can be helpful by removing all API calls appear only once."
   ]
  },
  {
   "cell_type": "markdown",
   "metadata": {},
   "source": [
    "## Baseline Model"
   ]
  },
  {
   "cell_type": "code",
   "execution_count": 26,
   "metadata": {},
   "outputs": [],
   "source": [
    "df = app_df.sample(frac=1, axis=0).reset_index(drop=True).drop('app_names', 1)"
   ]
  },
  {
   "cell_type": "markdown",
   "metadata": {},
   "source": [
    "### Logistic Regression"
   ]
  },
  {
   "cell_type": "code",
   "execution_count": 29,
   "metadata": {},
   "outputs": [
    {
     "name": "stderr",
     "output_type": "stream",
     "text": [
      "/opt/conda/lib/python3.7/site-packages/sklearn/linear_model/logistic.py:432: FutureWarning: Default solver will be changed to 'lbfgs' in 0.22. Specify a solver to silence this warning.\n",
      "  FutureWarning)\n"
     ]
    },
    {
     "data": {
      "text/plain": [
       "(5, 11, 7, 13)"
      ]
     },
     "execution_count": 29,
     "metadata": {},
     "output_type": "execute_result"
    }
   ],
   "source": [
    "baseline_model_training.Logistic_Regression(df, df, 'category')"
   ]
  },
  {
   "cell_type": "markdown",
   "metadata": {},
   "source": [
    "### Random Forest"
   ]
  },
  {
   "cell_type": "code",
   "execution_count": 30,
   "metadata": {
    "scrolled": true
   },
   "outputs": [
    {
     "name": "stderr",
     "output_type": "stream",
     "text": [
      "/opt/conda/lib/python3.7/site-packages/sklearn/ensemble/forest.py:245: FutureWarning: The default value of n_estimators will change from 10 in version 0.20 to 100 in 0.22.\n",
      "  \"10 in version 0.20 to 100 in 0.22.\", FutureWarning)\n"
     ]
    },
    {
     "data": {
      "text/plain": [
       "(12, 4, 5, 15)"
      ]
     },
     "execution_count": 30,
     "metadata": {},
     "output_type": "execute_result"
    }
   ],
   "source": [
    "baseline_model_training.Random_Forest(df, df, 'category')"
   ]
  },
  {
   "cell_type": "markdown",
   "metadata": {},
   "source": [
    "### GBC"
   ]
  },
  {
   "cell_type": "code",
   "execution_count": 31,
   "metadata": {},
   "outputs": [
    {
     "data": {
      "text/plain": [
       "(16, 0, 2, 18)"
      ]
     },
     "execution_count": 31,
     "metadata": {},
     "output_type": "execute_result"
    }
   ],
   "source": [
    "baseline_model_training.GBC(df, df, 'category')"
   ]
  },
  {
   "cell_type": "code",
   "execution_count": null,
   "metadata": {},
   "outputs": [],
   "source": []
  },
  {
   "cell_type": "code",
   "execution_count": null,
   "metadata": {},
   "outputs": [],
   "source": []
  },
  {
   "cell_type": "code",
   "execution_count": null,
   "metadata": {},
   "outputs": [],
   "source": []
  },
  {
   "cell_type": "code",
   "execution_count": null,
   "metadata": {},
   "outputs": [],
   "source": []
  },
  {
   "cell_type": "code",
   "execution_count": 1,
   "metadata": {},
   "outputs": [],
   "source": [
    "import re\n",
    "import itertools\n",
    "import os\n",
    "import pandas as pd\n",
    "import requests\n",
    "import glob, os\n",
    "import gzip\n",
    "import numpy as np\n",
    "from bs4 import BeautifulSoup\n",
    "import json\n",
    "from os import listdir\n",
    "from os.path import isfile, join\n",
    "from sklearn.linear_model import LogisticRegression\n",
    "from sklearn.ensemble import RandomForestClassifier,GradientBoostingClassifier\n",
    "from sklearn.preprocessing import OneHotEncoder\n",
    "from sklearn.pipeline import Pipeline\n",
    "from sklearn.compose import ColumnTransformer\n",
    "from sklearn.metrics import confusion_matrix"
   ]
  },
  {
   "cell_type": "code",
   "execution_count": 2,
   "metadata": {},
   "outputs": [],
   "source": [
    "def app_to_smali(path):\n",
    "    smalis = []\n",
    "    for d, dirs, files in os.walk(path + '/smali/'):\n",
    "        for f in files:\n",
    "            if f.endswith('smali'):\n",
    "                smalis.append(os.path.join(d, f))\n",
    "    smali_text = [open(s, 'r').read() for s in smalis]\n",
    "    return '\\n'.join(smali_text)"
   ]
  },
  {
   "cell_type": "code",
   "execution_count": 7,
   "metadata": {},
   "outputs": [],
   "source": [
    "#def all_smali(mypath):\n",
    "#    names = os.listdir(mypath)\n",
    "#    sub_dir = [os.path.join(mypath, o) for o in os.listdir(mypath) \n",
    "#                    if os.path.isdir(os.path.join(mypath,o))]\n",
    "#    smali_by_app = []\n",
    "#    for i in sub_dir:\n",
    "#        smali_by_app += [app_to_smali(i)]\n",
    "#    return smali_by_app"
   ]
  },
  {
   "cell_type": "code",
   "execution_count": 24,
   "metadata": {},
   "outputs": [],
   "source": [
    "df1 = generate_df('data', 'communication')"
   ]
  },
  {
   "cell_type": "code",
   "execution_count": 25,
   "metadata": {},
   "outputs": [],
   "source": [
    "df2 = generate_df('data', 'beauty')"
   ]
  },
  {
   "cell_type": "code",
   "execution_count": 26,
   "metadata": {},
   "outputs": [],
   "source": [
    "app_df = pd.concat([df1,df2])"
   ]
  },
  {
   "cell_type": "code",
   "execution_count": 23,
   "metadata": {},
   "outputs": [],
   "source": [
    "def generate_df(out, cat):\n",
    "    names = os.listdir(out + '/' + cat)\n",
    "    num_code_block = []\n",
    "    num_uni_block = []\n",
    "    num_api = []\n",
    "    num_uni_api = []\n",
    "    num_package = []\n",
    "    num_uni_package = []\n",
    "    num_invoke = []\n",
    "    most_freq_package = []\n",
    "    for app in names:\n",
    "        i = app_to_smali(out + '/' + cat + '/' + app)\n",
    "        block = by_code_block(i)\n",
    "        api = by_api(i)\n",
    "        package = by_package(i)\n",
    "        invoke = by_invoke(i)\n",
    "\n",
    "        num_uni_block += [block[0]]\n",
    "        num_code_block += [block[1]]\n",
    "        num_uni_api += [api[0]]\n",
    "        num_api += [api[1]]\n",
    "        num_uni_package += [package[0]]\n",
    "        num_package += [package[1]]\n",
    "        num_invoke += [invoke[0]]\n",
    "    df = pd.DataFrame({'app_names': names, 'num_code_block': num_code_block, \n",
    "                       'num_uni_block': num_uni_block, 'num_api': num_api, \n",
    "                       'num_uni_api': num_uni_api, 'num_package': num_package,\n",
    "                       'num_uni_package': num_uni_package, 'num_invoke': num_invoke,\n",
    "                       'category': cat})\n",
    "    return df[df['app_names']!='.ipynb_checkpoints']"
   ]
  },
  {
   "cell_type": "code",
   "execution_count": 4,
   "metadata": {},
   "outputs": [],
   "source": [
    "def by_code_block(smalitxt):\n",
    "    pattern = re.compile('\\.method([\\S\\s]*?)\\.end method')\n",
    "    code_blocks = re.findall(pattern, smalitxt)\n",
    "    return len(set(code_blocks)), len(code_blocks), code_blocks#not unique!!"
   ]
  },
  {
   "cell_type": "code",
   "execution_count": 5,
   "metadata": {},
   "outputs": [],
   "source": [
    "def by_api(smalitxt):\n",
    "    pattern = re.compile('(invoke-.*?)\\\\n\\\\n')\n",
    "    api = re.findall(pattern, smalitxt)\n",
    "    return len(set(api)), len(api), api#not unique!!"
   ]
  },
  {
   "cell_type": "code",
   "execution_count": 6,
   "metadata": {},
   "outputs": [],
   "source": [
    "def by_package(smalitxt):\n",
    "    packages = re.findall('invoke-.*? {.*?}. (\\[*[ZBSCFIJD]|\\[*L[\\w\\/$-]+;)->', smalitxt)\n",
    "    total = len(packages)\n",
    "    return len(set(packages)), total"
   ]
  },
  {
   "cell_type": "code",
   "execution_count": 7,
   "metadata": {},
   "outputs": [],
   "source": [
    "def by_invoke(smalitxt):\n",
    "    invokes = re.findall('invoke-(\\w+)(?:\\/range)? {', smalitxt)\n",
    "    total = len(invokes)\n",
    "    return total, invokes"
   ]
  },
  {
   "cell_type": "code",
   "execution_count": 8,
   "metadata": {},
   "outputs": [],
   "source": [
    "def list_package(apis):\n",
    "    packages = []\n",
    "    for api in apis:\n",
    "        pac = api_to_package(api)\n",
    "        packages += [pac]\n",
    "    return packages"
   ]
  },
  {
   "cell_type": "code",
   "execution_count": 9,
   "metadata": {},
   "outputs": [],
   "source": [
    "def list_invoke(apis):\n",
    "    invokes = []\n",
    "    for api in apis:\n",
    "        ivk = api_to_invoke_method(api)\n",
    "        invokes += [ivk]\n",
    "    return invokes"
   ]
  },
  {
   "cell_type": "code",
   "execution_count": 10,
   "metadata": {},
   "outputs": [],
   "source": [
    "def api_to_package(api):\n",
    "    pattern = re.compile('invoke-.*? {.*?}. (\\[*[ZBSCFIJD]|\\[*L[\\w\\/$-]+;)->')\n",
    "    package = re.search(pattern, api)\n",
    "    return package[1]"
   ]
  },
  {
   "cell_type": "code",
   "execution_count": 11,
   "metadata": {},
   "outputs": [],
   "source": [
    "def api_to_invoke_method(api):\n",
    "    pattern = re.compile('invoke-(\\w+)(?:\\/range)? {')\n",
    "    invoke = re.search(pattern, api)\n",
    "    return invoke[1]"
   ]
  },
  {
   "cell_type": "code",
   "execution_count": null,
   "metadata": {},
   "outputs": [],
   "source": []
  },
  {
   "cell_type": "code",
   "execution_count": null,
   "metadata": {},
   "outputs": [],
   "source": []
  }
 ],
 "metadata": {
  "kernelspec": {
   "display_name": "Python 3",
   "language": "python",
   "name": "python3"
  },
  "language_info": {
   "codemirror_mode": {
    "name": "ipython",
    "version": 3
   },
   "file_extension": ".py",
   "mimetype": "text/x-python",
   "name": "python",
   "nbconvert_exporter": "python",
   "pygments_lexer": "ipython3",
   "version": "3.7.3"
  }
 },
 "nbformat": 4,
 "nbformat_minor": 2
}
