{
 "cells": [
  {
   "cell_type": "code",
   "execution_count": 1,
   "metadata": {},
   "outputs": [],
   "source": [
    "%load_ext autoreload\n",
    "%autoreload 2\n",
    "import warnings\n",
    "warnings.filterwarnings(\"ignore\")\n",
    "import numpy as np\n",
    "import json\n",
    "import os\n",
    "import re\n",
    "import pandas as pd\n",
    "from src import util\n",
    "from sklearn.preprocessing import MultiLabelBinarizer"
   ]
  },
  {
   "cell_type": "code",
   "execution_count": 2,
   "metadata": {},
   "outputs": [],
   "source": [
    "with open('config/data-params.json') as f:\n",
    "    params = json.load(f)\n",
    "sitemap = params['sitemap']\n",
    "out = params['path']\n",
    "num = params['num']\n",
    "cat = params['cat']"
   ]
  },
  {
   "cell_type": "code",
   "execution_count": 3,
   "metadata": {},
   "outputs": [],
   "source": [
    "def all_smali(mypath):\n",
    "    sub_dir = [os.path.join(mypath, o) for o in os.listdir(mypath) \n",
    "                    if os.path.isdir(os.path.join(mypath,o))]\n",
    "    smali_by_app = []\n",
    "    for i in sub_dir:\n",
    "        smali_by_app += [util.app_to_smali(i)]\n",
    "    return smali_by_app"
   ]
  },
  {
   "cell_type": "code",
   "execution_count": 4,
   "metadata": {},
   "outputs": [],
   "source": [
    "all_smali = all_smali(out + '/' + cat[0])"
   ]
  },
  {
   "cell_type": "code",
   "execution_count": 5,
   "metadata": {},
   "outputs": [],
   "source": [
    "smali_df = pd.DataFrame(all_smali)"
   ]
  },
  {
   "cell_type": "markdown",
   "metadata": {},
   "source": [
    "## A"
   ]
  },
  {
   "cell_type": "code",
   "execution_count": 6,
   "metadata": {},
   "outputs": [],
   "source": [
    "def extract_api(x):\n",
    "    return set(re.findall('invoke-\\w+ {.*}, (.*?)\\\\(', '\\n'.join(x)))"
   ]
  },
  {
   "cell_type": "code",
   "execution_count": 7,
   "metadata": {},
   "outputs": [],
   "source": [
    "apis = smali_df.apply(extract_api, axis = 1)"
   ]
  },
  {
   "cell_type": "code",
   "execution_count": 8,
   "metadata": {},
   "outputs": [
    {
     "data": {
      "text/plain": [
       "0     {Lcom/google/android/gms/internal/ads/zzbhr;->...\n",
       "1     {Lcom/google/android/gms/internal/z10;-><init>...\n",
       "2     {Landroid/support/v7/widget/ActionBarContextVi...\n",
       "3     {Landroid/support/v7/widget/ActionBarContextVi...\n",
       "4     {Landroid/support/v7/widget/ActionBarContextVi...\n",
       "5                                                    {}\n",
       "6     {Lcom/google/android/gms/common/internal/safep...\n",
       "7                                                    {}\n",
       "8                                                    {}\n",
       "9     {Lcom/google/android/gms/common/internal/safep...\n",
       "10    {Landroid/support/v7/widget/ActionBarContextVi...\n",
       "11    {Lcom/unity3d/player/GoogleVrApi;->b, Landroid...\n",
       "12    {Lcom/fasterxml/jackson/core/json/UTF8JsonGene...\n",
       "13    {Landroid/support/v7/widget/ActionBarContextVi...\n",
       "14    {Landroid/support/v7/widget/ActionBarContextVi...\n",
       "15    {[Le/a/a/a/a/b/l$a;->clone, Lcom/google/androi...\n",
       "16    {Landroid/support/v7/internal/widget/Scrolling...\n",
       "17    {Lcom/unity3d/player/GoogleVrApi;->b, Landroid...\n",
       "18    {Landroid/support/v7/widget/ActionBarContextVi...\n",
       "19    {Landroid/support/v7/widget/ActionBarContextVi...\n",
       "20    {Lcom/nineoldandroids/animation/Keyframe;->has...\n",
       "dtype: object"
      ]
     },
     "execution_count": 8,
     "metadata": {},
     "output_type": "execute_result"
    }
   ],
   "source": [
    "apis"
   ]
  },
  {
   "cell_type": "code",
   "execution_count": 10,
   "metadata": {},
   "outputs": [],
   "source": [
    "mlb_A = MultiLabelBinarizer(sparse_output = True)\n",
    "A = mlb_A.fit_transform(apis)"
   ]
  },
  {
   "cell_type": "code",
   "execution_count": 27,
   "metadata": {},
   "outputs": [],
   "source": [
    "apis = mlb_A.classes_"
   ]
  },
  {
   "cell_type": "code",
   "execution_count": 11,
   "metadata": {},
   "outputs": [
    {
     "data": {
      "text/plain": [
       "(21, 199879)"
      ]
     },
     "execution_count": 11,
     "metadata": {},
     "output_type": "execute_result"
    }
   ],
   "source": [
    "A.shape"
   ]
  },
  {
   "cell_type": "markdown",
   "metadata": {},
   "source": [
    "## B"
   ]
  },
  {
   "cell_type": "code",
   "execution_count": 15,
   "metadata": {},
   "outputs": [],
   "source": [
    "def extract_block(x):\n",
    "    return list(set(re.findall('\\.method([\\S\\s]*?)\\.end method', '\\n'.join(x))))"
   ]
  },
  {
   "cell_type": "code",
   "execution_count": 16,
   "metadata": {},
   "outputs": [],
   "source": [
    "code_blocks = smali_df.apply(extract_block, axis = 1)"
   ]
  },
  {
   "cell_type": "code",
   "execution_count": 19,
   "metadata": {},
   "outputs": [],
   "source": [
    "block_df = code_blocks.explode().reset_index().drop('index', axis = 1)"
   ]
  },
  {
   "cell_type": "code",
   "execution_count": 50,
   "metadata": {},
   "outputs": [],
   "source": [
    "B_dic= {}"
   ]
  },
  {
   "cell_type": "code",
   "execution_count": 51,
   "metadata": {},
   "outputs": [],
   "source": [
    "def extract_api_from_blocks(block):\n",
    "    apis = set(re.findall('invoke-\\w+ {.*}, (.*?)\\\\(',block))\n",
    "    for api in apis:\n",
    "        if not api in api_dic.keys():\n",
    "            B_dic[api] = apis\n",
    "        else:\n",
    "            B_dic[api] = api_dic[api].union(apis)"
   ]
  },
  {
   "cell_type": "code",
   "execution_count": 53,
   "metadata": {},
   "outputs": [
    {
     "data": {
      "text/plain": [
       "0         None\n",
       "1         None\n",
       "2         None\n",
       "3         None\n",
       "4         None\n",
       "          ... \n",
       "593791    None\n",
       "593792    None\n",
       "593793    None\n",
       "593794    None\n",
       "593795    None\n",
       "Name: 0, Length: 593793, dtype: object"
      ]
     },
     "execution_count": 53,
     "metadata": {},
     "output_type": "execute_result"
    }
   ],
   "source": [
    "api_from_block_df[0].dropna().apply(extract_api_from_blocks)"
   ]
  },
  {
   "cell_type": "code",
   "execution_count": 54,
   "metadata": {},
   "outputs": [
    {
     "data": {
      "text/plain": [
       "(199879, 199879)"
      ]
     },
     "execution_count": 54,
     "metadata": {},
     "output_type": "execute_result"
    }
   ],
   "source": [
    "mlb_b = MultiLabelBinarizer(sparse_output = True)\n",
    "B = mlb_b.fit_transform(B_dic.values())\n",
    "B.shape"
   ]
  },
  {
   "cell_type": "markdown",
   "metadata": {},
   "source": [
    "## P"
   ]
  },
  {
   "cell_type": "code",
   "execution_count": 12,
   "metadata": {},
   "outputs": [],
   "source": [
    "def extract_package(x):\n",
    "    return re.search('(\\[*[ZBSCFIJD]|\\[*L[\\w\\/$-]+;)->', x)[1] "
   ]
  },
  {
   "cell_type": "code",
   "execution_count": 13,
   "metadata": {},
   "outputs": [],
   "source": [
    "P_dict = {}"
   ]
  },
  {
   "cell_type": "code",
   "execution_count": 29,
   "metadata": {},
   "outputs": [],
   "source": [
    "apis = pd.Series(apis)"
   ]
  },
  {
   "cell_type": "code",
   "execution_count": null,
   "metadata": {},
   "outputs": [],
   "source": []
  },
  {
   "cell_type": "code",
   "execution_count": null,
   "metadata": {},
   "outputs": [],
   "source": []
  },
  {
   "cell_type": "code",
   "execution_count": null,
   "metadata": {},
   "outputs": [],
   "source": []
  },
  {
   "cell_type": "code",
   "execution_count": null,
   "metadata": {},
   "outputs": [],
   "source": []
  }
 ],
 "metadata": {
  "kernelspec": {
   "display_name": "Python 3",
   "language": "python",
   "name": "python3"
  },
  "language_info": {
   "codemirror_mode": {
    "name": "ipython",
    "version": 3
   },
   "file_extension": ".py",
   "mimetype": "text/x-python",
   "name": "python",
   "nbconvert_exporter": "python",
   "pygments_lexer": "ipython3",
   "version": "3.7.3"
  }
 },
 "nbformat": 4,
 "nbformat_minor": 2
}
