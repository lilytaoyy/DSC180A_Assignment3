{
 "cells": [
  {
   "cell_type": "code",
   "execution_count": 2,
   "metadata": {},
   "outputs": [],
   "source": [
    "%load_ext autoreload\n",
    "%autoreload 2\n",
    "import warnings\n",
    "warnings.filterwarnings(\"ignore\")\n",
    "import numpy as np\n",
    "import json\n",
    "import os\n",
    "import re\n",
    "import pandas as pd\n",
    "from src import util\n",
    "from sklearn.preprocessing import MultiLabelBinarizer"
   ]
  },
  {
   "cell_type": "code",
   "execution_count": 3,
   "metadata": {},
   "outputs": [],
   "source": [
    "with open('config/data-params.json') as f:\n",
    "    params = json.load(f)\n",
    "sitemap = params['sitemap']\n",
    "out = params['path']\n",
    "num = params['num']\n",
    "cat = params['cat']"
   ]
  },
  {
   "cell_type": "code",
   "execution_count": 4,
   "metadata": {},
   "outputs": [],
   "source": [
    "def all_smali(mypath):\n",
    "    sub_dir = [os.path.join(mypath, o) for o in os.listdir(mypath) \n",
    "                    if os.path.isdir(os.path.join(mypath,o))]\n",
    "    smali_by_app = []\n",
    "    for i in sub_dir:\n",
    "        smali_by_app += [util.app_to_smali(i)]\n",
    "    return smali_by_app"
   ]
  },
  {
   "cell_type": "code",
   "execution_count": 5,
   "metadata": {},
   "outputs": [],
   "source": [
    "all_smali = all_smali(out + '/' + cat[0])"
   ]
  },
  {
   "cell_type": "code",
   "execution_count": 6,
   "metadata": {},
   "outputs": [],
   "source": [
    "smali_df = pd.DataFrame(all_smali)"
   ]
  },
  {
   "cell_type": "markdown",
   "metadata": {},
   "source": [
    "## A"
   ]
  },
  {
   "cell_type": "code",
   "execution_count": 7,
   "metadata": {},
   "outputs": [],
   "source": [
    "def extract_api(x):\n",
    "    return set(re.findall('invoke-\\w+ {.*}, (.*?)\\\\(', '\\n'.join(x)))"
   ]
  },
  {
   "cell_type": "code",
   "execution_count": 8,
   "metadata": {},
   "outputs": [],
   "source": [
    "apis_by_app = smali_df.apply(extract_api, axis = 1)"
   ]
  },
  {
   "cell_type": "code",
   "execution_count": 9,
   "metadata": {},
   "outputs": [],
   "source": [
    "mlb_A = MultiLabelBinarizer(sparse_output = True)\n",
    "A = mlb_A.fit_transform(apis_by_app)"
   ]
  },
  {
   "cell_type": "code",
   "execution_count": 10,
   "metadata": {},
   "outputs": [],
   "source": [
    "apis = mlb_A.classes_"
   ]
  },
  {
   "cell_type": "code",
   "execution_count": 11,
   "metadata": {},
   "outputs": [
    {
     "data": {
      "text/plain": [
       "(21, 199879)"
      ]
     },
     "execution_count": 11,
     "metadata": {},
     "output_type": "execute_result"
    }
   ],
   "source": [
    "A.shape"
   ]
  },
  {
   "cell_type": "code",
   "execution_count": 12,
   "metadata": {},
   "outputs": [],
   "source": [
    "def A(smali_df):\n",
    "    apis_by_app = smali_df.apply(extract_api, axis = 1)\n",
    "    mlb_A = MultiLabelBinarizer(sparse_output = True)\n",
    "    A = mlb_A.fit_transform(apis_by_app)\n",
    "    apis = mlb_A.classes_\n",
    "    return A, apis"
   ]
  },
  {
   "cell_type": "markdown",
   "metadata": {},
   "source": [
    "## B"
   ]
  },
  {
   "cell_type": "code",
   "execution_count": 13,
   "metadata": {},
   "outputs": [],
   "source": [
    "def extract_block(x):\n",
    "    return list(set(re.findall('\\.method([\\S\\s]*?)\\.end method', '\\n'.join(x))))"
   ]
  },
  {
   "cell_type": "code",
   "execution_count": 14,
   "metadata": {},
   "outputs": [],
   "source": [
    "code_blocks = smali_df.apply(extract_block, axis = 1)"
   ]
  },
  {
   "cell_type": "code",
   "execution_count": 15,
   "metadata": {},
   "outputs": [],
   "source": [
    "block_df = code_blocks.explode().reset_index().drop('index', axis = 1)"
   ]
  },
  {
   "cell_type": "code",
   "execution_count": 16,
   "metadata": {},
   "outputs": [],
   "source": [
    "B_dic= {}"
   ]
  },
  {
   "cell_type": "code",
   "execution_count": 17,
   "metadata": {},
   "outputs": [],
   "source": [
    "def extract_api_from_blocks(block):\n",
    "    apis = set(re.findall('invoke-\\w+ {.*}, (.*?)\\\\(',block))\n",
    "    for api in apis:\n",
    "        if not api in B_dic.keys():\n",
    "            B_dic[api] = apis\n",
    "        else:\n",
    "            B_dic[api] = B_dic[api].union(apis)"
   ]
  },
  {
   "cell_type": "code",
   "execution_count": 19,
   "metadata": {},
   "outputs": [
    {
     "data": {
      "text/plain": [
       "0         None\n",
       "1         None\n",
       "2         None\n",
       "3         None\n",
       "4         None\n",
       "          ... \n",
       "593791    None\n",
       "593792    None\n",
       "593793    None\n",
       "593794    None\n",
       "593795    None\n",
       "Name: 0, Length: 593793, dtype: object"
      ]
     },
     "execution_count": 19,
     "metadata": {},
     "output_type": "execute_result"
    }
   ],
   "source": [
    "block_df[0].dropna().apply(extract_api_from_blocks)"
   ]
  },
  {
   "cell_type": "code",
   "execution_count": 20,
   "metadata": {},
   "outputs": [
    {
     "data": {
      "text/plain": [
       "(199879, 199879)"
      ]
     },
     "execution_count": 20,
     "metadata": {},
     "output_type": "execute_result"
    }
   ],
   "source": [
    "mlb_b = MultiLabelBinarizer(sparse_output = True)\n",
    "B = mlb_b.fit_transform(B_dic.values())\n",
    "B.shape"
   ]
  },
  {
   "cell_type": "code",
   "execution_count": 31,
   "metadata": {},
   "outputs": [],
   "source": [
    "def B(smali_df):\n",
    "    code_blocks = smali_df.apply(extract_block, axis = 1)\n",
    "    block_df = code_blocks.explode().reset_index().drop('index', axis = 1)\n",
    "    B_dic= {}\n",
    "    \n",
    "    def extract_api_from_blocks(block):\n",
    "        apis = set(re.findall('invoke-\\w+ {.*}, (.*?)\\\\(',block))\n",
    "        for api in apis:\n",
    "            if not api in B_dic.keys():\n",
    "                B_dic[api] = apis\n",
    "            else:\n",
    "                B_dic[api] = B_dic[api].union(apis)\n",
    "    \n",
    "    block_df[0].dropna().apply(extract_api_from_blocks)\n",
    "    mlb_b = MultiLabelBinarizer(sparse_output = True)\n",
    "    B = mlb_b.fit_transform(B_dic.values())\n",
    "    return B"
   ]
  },
  {
   "cell_type": "markdown",
   "metadata": {},
   "source": [
    "## P"
   ]
  },
  {
   "cell_type": "code",
   "execution_count": 22,
   "metadata": {},
   "outputs": [],
   "source": [
    "def extract_package(x):\n",
    "    return re.search('(\\[*[ZBSCFIJD]|\\[*L[\\w\\/$-]+;)->', x)[1] "
   ]
  },
  {
   "cell_type": "code",
   "execution_count": 23,
   "metadata": {},
   "outputs": [],
   "source": [
    "P_dic = {}"
   ]
  },
  {
   "cell_type": "code",
   "execution_count": 24,
   "metadata": {},
   "outputs": [],
   "source": [
    "api_df = pd.DataFrame({'apis': apis})"
   ]
  },
  {
   "cell_type": "code",
   "execution_count": 25,
   "metadata": {},
   "outputs": [],
   "source": [
    "api_df['package'] = api_df['apis'].apply(extract_package)"
   ]
  },
  {
   "cell_type": "code",
   "execution_count": 26,
   "metadata": {},
   "outputs": [],
   "source": [
    "api_by_pac = api_df.groupby('package').apis.apply(set).to_frame().reset_index().apis#.to_dict().values()"
   ]
  },
  {
   "cell_type": "code",
   "execution_count": 27,
   "metadata": {},
   "outputs": [],
   "source": [
    "def extract_api_package(x):\n",
    "    for api in x:\n",
    "        if not api in P_dic.keys():\n",
    "            P_dic[api] = x\n",
    "        else:\n",
    "            P_dic[api] = P_dic[api].union(x)"
   ]
  },
  {
   "cell_type": "code",
   "execution_count": 28,
   "metadata": {
    "scrolled": false
   },
   "outputs": [
    {
     "data": {
      "text/plain": [
       "0        None\n",
       "1        None\n",
       "2        None\n",
       "3        None\n",
       "4        None\n",
       "         ... \n",
       "47281    None\n",
       "47282    None\n",
       "47283    None\n",
       "47284    None\n",
       "47285    None\n",
       "Name: apis, Length: 47286, dtype: object"
      ]
     },
     "execution_count": 28,
     "metadata": {},
     "output_type": "execute_result"
    }
   ],
   "source": [
    "api_by_pac.apply(extract_api_package)"
   ]
  },
  {
   "cell_type": "code",
   "execution_count": 29,
   "metadata": {},
   "outputs": [
    {
     "data": {
      "text/plain": [
       "(199879, 199879)"
      ]
     },
     "execution_count": 29,
     "metadata": {},
     "output_type": "execute_result"
    }
   ],
   "source": [
    "mlb_p = MultiLabelBinarizer(sparse_output = True)\n",
    "P = mlb_p.fit_transform(P_dic.values())\n",
    "P.shape"
   ]
  },
  {
   "cell_type": "code",
   "execution_count": 30,
   "metadata": {},
   "outputs": [],
   "source": [
    "def P(apis):\n",
    "    P_dic = {}\n",
    "    api_df = pd.DataFrame({'apis': apis})\n",
    "    api_df['package'] = api_df['apis'].apply(extract_package)\n",
    "    api_by_pac = api_df.groupby('package').apis.apply(set).to_frame().reset_index().apis\n",
    "    def extract_api_package(x):\n",
    "        for api in x:\n",
    "            if not api in P_dic.keys():\n",
    "                P_dic[api] = x\n",
    "            else:\n",
    "                P_dic[api] = P_dic[api].union(x)\n",
    "    api_by_pac.apply(extract_api_package)\n",
    "    mlb_p = MultiLabelBinarizer(sparse_output = True)\n",
    "    P = mlb_p.fit_transform(P_dic.values())\n",
    "    return P"
   ]
  },
  {
   "cell_type": "code",
   "execution_count": null,
   "metadata": {},
   "outputs": [],
   "source": []
  },
  {
   "cell_type": "code",
   "execution_count": null,
   "metadata": {},
   "outputs": [],
   "source": []
  },
  {
   "cell_type": "code",
   "execution_count": null,
   "metadata": {},
   "outputs": [],
   "source": []
  }
 ],
 "metadata": {
  "kernelspec": {
   "display_name": "Python 3",
   "language": "python",
   "name": "python3"
  },
  "language_info": {
   "codemirror_mode": {
    "name": "ipython",
    "version": 3
   },
   "file_extension": ".py",
   "mimetype": "text/x-python",
   "name": "python",
   "nbconvert_exporter": "python",
   "pygments_lexer": "ipython3",
   "version": "3.7.3"
  }
 },
 "nbformat": 4,
 "nbformat_minor": 2
}
